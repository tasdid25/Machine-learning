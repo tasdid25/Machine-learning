{
  "cells": [
    {
      "cell_type": "markdown",
      "metadata": {
        "id": "6nC__-R__1nd"
      },
      "source": [
        "# NumPy Essentials (Part:1 - Arrays)\n",
        "\n",
        "Hi Guys,<br>\n",
        "Welcome to the NumPy Essentials lecture part 1.<br>\n",
        "\n",
        "As a fundamental package for scientific computing, NumPy provides the foundations of mathematical, scientific, engineering and data science programming within the Python Echo-system. NumPy’s main object is the homogeneous multidimensional array.<br>\n",
        "\n",
        "**NumPY stands for? Ans: Numerical Python  \n",
        "Numpy developed by? Ans: Travis Oliphant**\n",
        "\n",
        "**I hope that you have already installed NumPy, let's move on a create a new notebook to explore more about NumPy.** <br>\n",
        "\n",
        "# Numpy Arrays\n",
        "### `arange()`,  `linspace()`, `zeros()`,  `ones()`, `eye()`, `rand()`, `randn()`, `randint()`\n",
        "### Methods: `reshape()`, `max()`, `min()`, `argmax()`, `argmin()`<br>\n",
        "### Attributes: `size, shape, dtype`\n",
        "### Indexing & slicing of 1-D arrays (vectors)\n",
        "###  Indexing & slicing 2-D arrays (matrices)"
      ]
    },
    {
      "cell_type": "code",
      "execution_count": 2,
      "metadata": {
        "id": "WFyxdECp_1nl"
      },
      "outputs": [],
      "source": [
        "# Let import NumPy\n",
        "import numpy as np"
      ]
    },
    {
      "cell_type": "markdown",
      "metadata": {
        "id": "-QPDndfh_1nl"
      },
      "source": [
        "NumPy has many built-in functions and capabilities. We will focus on some of the most important and key concepts of this powerful library.\n",
        "\n",
        "# Numpy Arrays\n",
        "\n",
        "NumPy arrays will be the main concept that we will be using in this course. These arrays essentially come in two flavors: <br>\n",
        "* **Vectors:** Vectors are strictly 1-dimensional array\n",
        "*  **Matrices:** Matrices are 2-dimensional (matrix can still have only one row or one column)."
      ]
    },
    {
      "cell_type": "markdown",
      "metadata": {
        "id": "8jFt4-DP_1nl"
      },
      "source": [
        "## Creating NumPy Arrays"
      ]
    },
    {
      "cell_type": "markdown",
      "metadata": {
        "id": "6X5gP2Nl_1nl"
      },
      "source": [
        "### From Python data type (e.g. List, Tuple)"
      ]
    },
    {
      "cell_type": "code",
      "execution_count": 3,
      "metadata": {
        "colab": {
          "base_uri": "https://localhost:8080/"
        },
        "id": "ZfSc9pUT_1nl",
        "outputId": "5b52b005-a4dc-4ae5-ede7-3cef0bec8e7e"
      },
      "outputs": [
        {
          "output_type": "execute_result",
          "data": {
            "text/plain": [
              "[-1, 0, 1]"
            ]
          },
          "metadata": {},
          "execution_count": 3
        }
      ],
      "source": [
        "# Lets create a Python list.\n",
        "my_list = [-1,0,1]\n",
        "\n",
        "my_list"
      ]
    },
    {
      "cell_type": "markdown",
      "metadata": {
        "id": "99pTHZu3_1nm"
      },
      "source": [
        "To create a NumPy array, from a Python data structure, we use NumPy's array function. <br>\n",
        "The NumPy's array function can be accessed by typing \"np.array\". <br>\n",
        "We need to cast our Python data structure, my_list, as a parameter to the array function.<br>"
      ]
    },
    {
      "cell_type": "code",
      "execution_count": 4,
      "metadata": {
        "colab": {
          "base_uri": "https://localhost:8080/"
        },
        "id": "TEBW7FaD_1nm",
        "outputId": "f9fe348e-9527-468c-e641-9d1bda1e34d0"
      },
      "outputs": [
        {
          "output_type": "execute_result",
          "data": {
            "text/plain": [
              "array([-1,  0,  1])"
            ]
          },
          "metadata": {},
          "execution_count": 4
        }
      ],
      "source": [
        "my_array = np.array(my_list)\n",
        "\n",
        "my_array"
      ]
    },
    {
      "cell_type": "code",
      "execution_count": 5,
      "metadata": {
        "colab": {
          "base_uri": "https://localhost:8080/"
        },
        "id": "vVkGa8An_1nm",
        "outputId": "bc6bc418-8a13-4ff9-86df-15520455feda"
      },
      "outputs": [
        {
          "output_type": "execute_result",
          "data": {
            "text/plain": [
              "[[1, 2, 3], [4, 5, 6]]"
            ]
          },
          "metadata": {},
          "execution_count": 5
        }
      ],
      "source": [
        "# Lets create and cast a list of list to generate 2-D array\n",
        "my_matrix = [[1,2,3],[4,5,6]]\n",
        "my_matrix"
      ]
    },
    {
      "cell_type": "code",
      "execution_count": 6,
      "metadata": {
        "colab": {
          "base_uri": "https://localhost:8080/"
        },
        "id": "TqM8VTl__1nm",
        "outputId": "66f27a40-11c6-4163-d6c1-9f297a18e455"
      },
      "outputs": [
        {
          "output_type": "execute_result",
          "data": {
            "text/plain": [
              "array([[1, 2, 3],\n",
              "       [4, 5, 6]])"
            ]
          },
          "metadata": {},
          "execution_count": 6
        }
      ],
      "source": [
        "matrix_one = np.array(my_matrix)\n",
        "matrix_one"
      ]
    },
    {
      "cell_type": "code",
      "execution_count": 7,
      "metadata": {
        "colab": {
          "base_uri": "https://localhost:8080/"
        },
        "id": "ASPToNHX_1nm",
        "outputId": "539e7711-f182-438e-bf29-6d2258e972a3"
      },
      "outputs": [
        {
          "output_type": "execute_result",
          "data": {
            "text/plain": [
              "(2, 3)"
            ]
          },
          "metadata": {},
          "execution_count": 7
        }
      ],
      "source": [
        "matrix_one.shape"
      ]
    },
    {
      "cell_type": "code",
      "execution_count": 8,
      "metadata": {
        "colab": {
          "base_uri": "https://localhost:8080/"
        },
        "id": "W_kj8o9m_1nm",
        "outputId": "90b80c39-54f7-45d2-90af-bf92bcfd3c47"
      },
      "outputs": [
        {
          "output_type": "execute_result",
          "data": {
            "text/plain": [
              "(array([-1,  0,  1]), numpy.ndarray)"
            ]
          },
          "metadata": {},
          "execution_count": 8
        }
      ],
      "source": [
        "# We can use Tuple instead of list as well.\n",
        "my_tuple = (-1,0,1)\n",
        "my_array = np.array(my_tuple)\n",
        "my_array, type(my_array)"
      ]
    },
    {
      "cell_type": "markdown",
      "metadata": {
        "id": "jjvQcfQc_1nn"
      },
      "source": [
        "### Array creation using NumPy's Built-in methods\n",
        "\n",
        "Most of the times, we use NumPy built-in methods to create arrays. These are much simpler and faster."
      ]
    },
    {
      "cell_type": "markdown",
      "metadata": {
        "id": "979iK4vi_1nn"
      },
      "source": [
        "### `arange()`\n",
        "\n",
        "* arange() is very much similar to Python function range() <br>\n",
        "* Syntax: arange([start,] stop[, step,], dtype=None) <br>\n",
        "* Return evenly spaced values within a given interval. <br>\n",
        "\n",
        "*Press shift+tab for the documentation.*"
      ]
    },
    {
      "cell_type": "code",
      "execution_count": 9,
      "metadata": {
        "colab": {
          "base_uri": "https://localhost:8080/"
        },
        "id": "bL7gzxRC_1nn",
        "outputId": "fc09c417-c41f-4bac-f3a6-8be6d62db2ca"
      },
      "outputs": [
        {
          "output_type": "execute_result",
          "data": {
            "text/plain": [
              "array([ 0,  1,  2,  3,  4,  5,  6,  7,  8,  9, 10, 11, 12, 13, 14, 15, 16,\n",
              "       17, 18, 19, 20, 21, 22, 23, 24, 25, 26, 27, 28, 29, 30, 31, 32, 33,\n",
              "       34, 35, 36, 37, 38, 39, 40, 41, 42, 43, 44, 45, 46, 47, 48, 49, 50,\n",
              "       51, 52, 53, 54, 55, 56, 57, 58, 59, 60, 61, 62, 63, 64, 65, 66, 67,\n",
              "       68, 69, 70, 71, 72, 73, 74, 75, 76, 77, 78, 79, 80, 81, 82, 83, 84,\n",
              "       85, 86, 87, 88, 89, 90, 91, 92, 93, 94, 95, 96, 97, 98, 99])"
            ]
          },
          "metadata": {},
          "execution_count": 9
        }
      ],
      "source": [
        "num = np.arange(100) # similar to range() in Python, not including 100\n",
        "num"
      ]
    },
    {
      "cell_type": "code",
      "execution_count": null,
      "metadata": {
        "id": "3nWHGfSj_1nn",
        "outputId": "8baa4bfd-599d-4f63-8189-103581695314"
      },
      "outputs": [
        {
          "data": {
            "text/plain": [
              "array([3, 5, 7, 9])"
            ]
          },
          "execution_count": 13,
          "metadata": {},
          "output_type": "execute_result"
        }
      ],
      "source": [
        "# We can give the step\n",
        "np.arange(3,10,2)"
      ]
    },
    {
      "cell_type": "code",
      "execution_count": null,
      "metadata": {
        "id": "SYN5fzR1_1nn",
        "outputId": "6faed7be-0088-4548-9c29-ed796dedbdfb"
      },
      "outputs": [
        {
          "data": {
            "text/plain": [
              "array([0., 2., 4., 6., 8.])"
            ]
          },
          "execution_count": 15,
          "metadata": {},
          "output_type": "execute_result"
        }
      ],
      "source": [
        "# We can give the step and dtype\n",
        "np.arange(0,10,2, dtype=float)"
      ]
    },
    {
      "cell_type": "markdown",
      "metadata": {
        "id": "4n2R4mD1_1nn"
      },
      "source": [
        "### `linspace()`\n",
        "Return evenly spaced numbers over a specified interval.<br>\n",
        "*Press shift+tab for the documentation.*"
      ]
    },
    {
      "cell_type": "code",
      "execution_count": 10,
      "metadata": {
        "scrolled": false,
        "colab": {
          "base_uri": "https://localhost:8080/"
        },
        "id": "5f0Q0gCz_1nn",
        "outputId": "acfbf884-bac2-4e8a-e85c-c02d317e7c25"
      },
      "outputs": [
        {
          "output_type": "execute_result",
          "data": {
            "text/plain": [
              "(array([ 1.        ,  1.58333333,  2.16666667,  2.75      ,  3.33333333,\n",
              "         3.91666667,  4.5       ,  5.08333333,  5.66666667,  6.25      ,\n",
              "         6.83333333,  7.41666667,  8.        ,  8.58333333,  9.16666667,\n",
              "         9.75      , 10.33333333, 10.91666667, 11.5       , 12.08333333,\n",
              "        12.66666667, 13.25      , 13.83333333, 14.41666667, 15.        ]),\n",
              " 0.5833333333333334)"
            ]
          },
          "metadata": {},
          "execution_count": 10
        }
      ],
      "source": [
        "# start from 1 & end at 15 with 25 evenly spaced points b/w 1 to 15.\n",
        "np.linspace(1, 15, 25, retstep=True)"
      ]
    },
    {
      "cell_type": "code",
      "execution_count": null,
      "metadata": {
        "id": "nTWT2Pcx_1nn",
        "outputId": "38e9b0c4-88a8-4e2c-8698-579b5c1926b7"
      },
      "outputs": [
        {
          "data": {
            "text/plain": [
              "(array([ 9.        ,  9.31578947,  9.63157895,  9.94736842, 10.26315789,\n",
              "        10.57894737, 10.89473684, 11.21052632, 11.52631579, 11.84210526,\n",
              "        12.15789474, 12.47368421, 12.78947368, 13.10526316, 13.42105263,\n",
              "        13.73684211, 14.05263158, 14.36842105, 14.68421053, 15.        ]),\n",
              " 0.3157894736842105)"
            ]
          },
          "execution_count": 20,
          "metadata": {},
          "output_type": "execute_result"
        }
      ],
      "source": [
        "# Lets find the step size with \"retstep\" which returns the array and the step size\n",
        "my_linspace = np.linspace(9, 15, 20, retstep=True)\n",
        "my_linspace\n",
        "# my_linspace[1] to get the stepsize only"
      ]
    },
    {
      "cell_type": "code",
      "execution_count": null,
      "metadata": {
        "id": "l4OXwC7F_1nn",
        "outputId": "490288ff-4a67-494b-d10a-242f2c24dc8e"
      },
      "outputs": [
        {
          "data": {
            "text/plain": [
              "array([1.        , 1.03448276, 1.06896552, 1.10344828, 1.13793103,\n",
              "       1.17241379, 1.20689655, 1.24137931, 1.27586207, 1.31034483,\n",
              "       1.34482759, 1.37931034, 1.4137931 , 1.44827586, 1.48275862,\n",
              "       1.51724138, 1.55172414, 1.5862069 , 1.62068966, 1.65517241,\n",
              "       1.68965517, 1.72413793, 1.75862069, 1.79310345, 1.82758621,\n",
              "       1.86206897, 1.89655172, 1.93103448, 1.96551724, 2.        ])"
            ]
          },
          "execution_count": 23,
          "metadata": {},
          "output_type": "execute_result"
        }
      ],
      "source": [
        "np.linspace(1,2,30) # 1-D array"
      ]
    },
    {
      "cell_type": "markdown",
      "metadata": {
        "id": "o6tUqAIM_1nn"
      },
      "source": [
        "## Don't Confuse!\n",
        "  * <b>arange() takes 3rd argument as step size.<b><br>\n",
        "  * <b>linspace() take 3rd argument as no of point we want.<b>"
      ]
    },
    {
      "cell_type": "code",
      "execution_count": null,
      "metadata": {
        "id": "vIV5Jdq6_1nn",
        "outputId": "976d3095-1ebe-4836-db5e-a0898e7f48f7"
      },
      "outputs": [
        {
          "data": {
            "text/plain": [
              "array([ 0,  1,  2,  3,  4,  5,  6,  7,  8,  9, 10, 11, 12, 13, 14, 15])"
            ]
          },
          "execution_count": 24,
          "metadata": {},
          "output_type": "execute_result"
        }
      ],
      "source": [
        "x = np.arange(0, 16)\n",
        "x"
      ]
    },
    {
      "cell_type": "code",
      "execution_count": null,
      "metadata": {
        "id": "vqERmbc1_1no",
        "outputId": "8e36b377-ce82-4375-baea-d965a074bd7e"
      },
      "outputs": [
        {
          "data": {
            "text/plain": [
              "(16,)"
            ]
          },
          "execution_count": 42,
          "metadata": {},
          "output_type": "execute_result"
        }
      ],
      "source": [
        "x.shape"
      ]
    },
    {
      "cell_type": "code",
      "execution_count": null,
      "metadata": {
        "id": "DapRgbbY_1no",
        "outputId": "d6f5c70c-6dfc-44fe-d20b-bdc031772024"
      },
      "outputs": [
        {
          "data": {
            "text/plain": [
              "array([[ 0,  1,  2,  3,  4,  5,  6,  7],\n",
              "       [ 8,  9, 10, 11, 12, 13, 14, 15]])"
            ]
          },
          "execution_count": 31,
          "metadata": {},
          "output_type": "execute_result"
        }
      ],
      "source": [
        "x.reshape(2,8)"
      ]
    },
    {
      "cell_type": "code",
      "execution_count": null,
      "metadata": {
        "id": "CUV1xDw2_1no",
        "outputId": "22240eef-2891-476c-e4fe-5727991723eb"
      },
      "outputs": [
        {
          "data": {
            "text/plain": [
              "array([ 0,  1,  2,  3,  4,  5,  6,  7,  8,  9, 10, 11, 12, 13, 14, 15])"
            ]
          },
          "execution_count": 32,
          "metadata": {},
          "output_type": "execute_result"
        }
      ],
      "source": [
        "x"
      ]
    },
    {
      "cell_type": "code",
      "execution_count": null,
      "metadata": {
        "id": "5DJ32jsI_1no"
      },
      "outputs": [],
      "source": [
        "y = x.reshape(2, 4, 2)"
      ]
    },
    {
      "cell_type": "code",
      "execution_count": null,
      "metadata": {
        "id": "qlWvrrEg_1no",
        "outputId": "b2c2f72f-0e42-4bb4-aef3-ee2a94fd083a"
      },
      "outputs": [
        {
          "data": {
            "text/plain": [
              "(2, 4, 2)"
            ]
          },
          "execution_count": 37,
          "metadata": {},
          "output_type": "execute_result"
        }
      ],
      "source": [
        "y.shape"
      ]
    },
    {
      "cell_type": "code",
      "execution_count": null,
      "metadata": {
        "id": "oJAjHl8r_1no"
      },
      "outputs": [],
      "source": [
        "x = y.reshape(16)"
      ]
    },
    {
      "cell_type": "code",
      "execution_count": null,
      "metadata": {
        "id": "kBWAhqYn_1no",
        "outputId": "371ab8d4-77c8-4af2-b84a-bb9b378d041b"
      },
      "outputs": [
        {
          "data": {
            "text/plain": [
              "array([[ 0,  1,  2,  3,  4,  5,  6,  7,  8,  9, 10, 11, 12, 13, 14, 15]])"
            ]
          },
          "execution_count": 44,
          "metadata": {},
          "output_type": "execute_result"
        }
      ],
      "source": [
        "x"
      ]
    },
    {
      "cell_type": "code",
      "execution_count": null,
      "metadata": {
        "id": "6WhAUaqm_1no",
        "outputId": "49d0695a-4fae-4f7d-d5a0-47081efded0c"
      },
      "outputs": [
        {
          "data": {
            "text/plain": [
              "(1, 16)"
            ]
          },
          "execution_count": 45,
          "metadata": {},
          "output_type": "execute_result"
        }
      ],
      "source": [
        "x.shape"
      ]
    },
    {
      "cell_type": "markdown",
      "metadata": {
        "id": "FEi9mmP0_1no"
      },
      "source": [
        "## Random\n",
        "\n",
        "We can also create arrays with random numbers using Numpy's built-in functions in Random module.<br>\n",
        "*np.random. and then press tab for the options with random*"
      ]
    },
    {
      "cell_type": "markdown",
      "metadata": {
        "id": "_9EIP5n6_1no"
      },
      "source": [
        "### `rand()`\n",
        "Create an array of the given shape and populate it with\n",
        "random samples from a uniform distribution\n",
        "over ``[0, 1)``."
      ]
    },
    {
      "cell_type": "code",
      "execution_count": null,
      "metadata": {
        "id": "XI1VygSl_1no",
        "outputId": "81a091e8-8b18-4bc4-8ad3-0e26990f0b50"
      },
      "outputs": [
        {
          "data": {
            "text/plain": [
              "array([0.56857193, 0.70444535, 0.38774413, 0.06367394])"
            ]
          },
          "execution_count": 48,
          "metadata": {},
          "output_type": "execute_result"
        }
      ],
      "source": [
        "np.random.rand(4) # 1-D array with three elements"
      ]
    },
    {
      "cell_type": "code",
      "execution_count": null,
      "metadata": {
        "id": "EineabqN_1no",
        "outputId": "3cc6f7af-0d1a-4120-c00e-f0e17ee5cc7c"
      },
      "outputs": [
        {
          "data": {
            "text/plain": [
              "array([[0.60525625, 0.2546573 , 0.41268991, 0.16109012],\n",
              "       [0.54346942, 0.80262832, 0.52027391, 0.88833263],\n",
              "       [0.94015934, 0.03242477, 0.96564455, 0.74594476],\n",
              "       [0.82275534, 0.01635633, 0.584864  , 0.08268238],\n",
              "       [0.07011841, 0.22109206, 0.85855401, 0.52235779],\n",
              "       [0.42877327, 0.9725418 , 0.94471874, 0.35214834]])"
            ]
          },
          "execution_count": 51,
          "metadata": {},
          "output_type": "execute_result"
        }
      ],
      "source": [
        "np.random.rand(6,4)  # row, col, note we are not passing a tuple here, each dimension as a separate argument"
      ]
    },
    {
      "cell_type": "markdown",
      "metadata": {
        "id": "ooi_oM85_1no"
      },
      "source": [
        "### `randn()`\n",
        "\n",
        "Return a sample (or samples) from the \"standard normal\" or a \"Gaussian\" distribution. Unlike rand which is uniform.<br>\n",
        "*Press shift+tab for the documentation.*"
      ]
    },
    {
      "cell_type": "code",
      "execution_count": 11,
      "metadata": {
        "colab": {
          "base_uri": "https://localhost:8080/"
        },
        "id": "C72HAo6Y_1no",
        "outputId": "3f3d258e-57eb-40bf-cb2d-26472ab5494c"
      },
      "outputs": [
        {
          "output_type": "execute_result",
          "data": {
            "text/plain": [
              "array([[-0.94960787,  1.19970512,  0.9049603 , -0.8517187 ,  0.45453704],\n",
              "       [-0.2476404 ,  0.33545753, -0.43177982,  0.63709754,  1.66193455],\n",
              "       [-0.75686322,  0.86345089, -0.81111908,  1.93261776,  0.03136084],\n",
              "       [ 0.98525567, -0.18016219, -0.43962798, -0.76115741, -1.12778204],\n",
              "       [-1.16467434, -0.299979  ,  0.49763652,  0.1660593 ,  0.71330383],\n",
              "       [ 0.53830306, -0.85998762,  1.31027839, -0.41498643,  1.54193199],\n",
              "       [-0.98027525, -0.85480462, -0.70091945, -3.12566871, -0.86613976],\n",
              "       [ 0.87874431,  0.41652216,  1.29375787, -0.24180924,  1.60647464],\n",
              "       [ 0.98501193, -0.25546539, -0.98384724, -0.86866281, -1.93944459],\n",
              "       [-0.96341501, -1.66073609, -0.79233099, -1.87365177,  0.76978549]])"
            ]
          },
          "metadata": {},
          "execution_count": 11
        }
      ],
      "source": [
        "np.random.randn(10, 5)"
      ]
    },
    {
      "cell_type": "code",
      "execution_count": null,
      "metadata": {
        "id": "xuK-mEks_1no"
      },
      "outputs": [],
      "source": [
        "normal_array = np.random.randn(1000,1) # no tuple, each dimension as a separate argument\n",
        "normal_array"
      ]
    },
    {
      "cell_type": "code",
      "execution_count": null,
      "metadata": {
        "id": "xGqY3-eH_1no"
      },
      "outputs": [],
      "source": [
        "import pandas as pd\n",
        "\n",
        "df = pd.DataFrame(data=normal_array, columns=['A'])\n",
        "df"
      ]
    },
    {
      "cell_type": "code",
      "execution_count": null,
      "metadata": {
        "id": "1FSb_6Ca_1np"
      },
      "outputs": [],
      "source": [
        "df['A'].hist(bins=100)"
      ]
    },
    {
      "cell_type": "markdown",
      "metadata": {
        "id": "l9pxSGHj_1np"
      },
      "source": [
        "### `randint()`\n",
        "Return random integers from `low` (inclusive) to `high` (exclusive)."
      ]
    },
    {
      "cell_type": "code",
      "execution_count": null,
      "metadata": {
        "id": "r_5TUIJ6_1np",
        "outputId": "e06187da-4acc-4450-a40d-aeb782acc7e3"
      },
      "outputs": [
        {
          "data": {
            "text/plain": [
              "array([191, 134, 165, 134, 155, 109, 120, 162, 126, 173, 133, 131, 106,\n",
              "       139, 193, 154, 195, 132, 179, 190])"
            ]
          },
          "execution_count": 56,
          "metadata": {},
          "output_type": "execute_result"
        }
      ],
      "source": [
        "np.random.randint(100, 200, 20) #returns one random int, 1 inclusive, 100 exclusive"
      ]
    },
    {
      "cell_type": "code",
      "execution_count": null,
      "metadata": {
        "id": "pYP49FBS_1np",
        "outputId": "170f34f2-112b-4bd7-9de4-f5f117c7e02f"
      },
      "outputs": [
        {
          "data": {
            "text/plain": [
              "array([[150, 136, 173, 177, 192],\n",
              "       [157, 191, 174, 174, 183],\n",
              "       [102, 150, 101, 171, 114],\n",
              "       [148, 124, 163, 173, 147]])"
            ]
          },
          "execution_count": 59,
          "metadata": {},
          "output_type": "execute_result"
        }
      ],
      "source": [
        "np.random.randint(100,200,20).reshape(4,5) #returns ten random int,"
      ]
    },
    {
      "cell_type": "markdown",
      "metadata": {
        "id": "v4c5veOF_1nq"
      },
      "source": [
        "## Array Methods & Attributes\n",
        "Some important Methods and Attributes are important to know:<br>\n",
        "\n",
        "### Methods:\n",
        "* reshape(), max(), min(), argmax(), argmin()<br>"
      ]
    },
    {
      "cell_type": "code",
      "execution_count": null,
      "metadata": {
        "id": "cw-70Gi9_1nq"
      },
      "outputs": [],
      "source": [
        "# lets create 2 arrays using arange() and randint()\n",
        "array_ranint = np.random.randint(0,100,10)"
      ]
    },
    {
      "cell_type": "code",
      "execution_count": null,
      "metadata": {
        "id": "5D4Xyqy9_1nq",
        "outputId": "5354d0ea-54d2-429d-f882-c987b8e631a6"
      },
      "outputs": [
        {
          "data": {
            "text/plain": [
              "array([98, 23,  7, 84, 16,  8, 87, 35, 20, 84])"
            ]
          },
          "execution_count": 61,
          "metadata": {},
          "output_type": "execute_result"
        }
      ],
      "source": [
        "array_ranint"
      ]
    },
    {
      "cell_type": "markdown",
      "metadata": {
        "id": "EEhsBErF_1nq"
      },
      "source": [
        "#### `max()` & `min()`\n",
        "Useful methods for finding max or min values."
      ]
    },
    {
      "cell_type": "code",
      "execution_count": null,
      "metadata": {
        "id": "1ggFyEDZ_1nq",
        "outputId": "3612d18c-2c31-4269-e4d3-a7b311b95b0a"
      },
      "outputs": [
        {
          "data": {
            "text/plain": [
              "array([98, 23,  7, 84, 16,  8, 87, 35, 20, 84])"
            ]
          },
          "execution_count": 62,
          "metadata": {},
          "output_type": "execute_result"
        }
      ],
      "source": [
        "array_ranint"
      ]
    },
    {
      "cell_type": "code",
      "execution_count": null,
      "metadata": {
        "id": "pb2ENAa3_1nq",
        "outputId": "8b9827db-5e86-4b7f-dade-83d31a23c30c"
      },
      "outputs": [
        {
          "data": {
            "text/plain": [
              "7"
            ]
          },
          "execution_count": 63,
          "metadata": {},
          "output_type": "execute_result"
        }
      ],
      "source": [
        "array_ranint.min()"
      ]
    },
    {
      "cell_type": "code",
      "execution_count": null,
      "metadata": {
        "id": "TdYqAh2Y_1nq",
        "outputId": "b7b1460e-e16d-4abe-dc77-329262270b47"
      },
      "outputs": [
        {
          "data": {
            "text/plain": [
              "98"
            ]
          },
          "execution_count": 64,
          "metadata": {},
          "output_type": "execute_result"
        }
      ],
      "source": [
        "array_ranint.max()"
      ]
    },
    {
      "cell_type": "markdown",
      "metadata": {
        "id": "7CgmKWBy_1nq"
      },
      "source": [
        "#### `argmax()` & `argmin()`\n",
        "To find the index locations of max and min values in array"
      ]
    },
    {
      "cell_type": "code",
      "execution_count": null,
      "metadata": {
        "id": "813lE0xx_1nq",
        "outputId": "398fcab6-fd08-480e-ce3b-61b73f8b5820"
      },
      "outputs": [
        {
          "data": {
            "text/plain": [
              "0"
            ]
          },
          "execution_count": 65,
          "metadata": {},
          "output_type": "execute_result"
        }
      ],
      "source": [
        "array_ranint.argmax() # index starts from 0"
      ]
    },
    {
      "cell_type": "code",
      "execution_count": null,
      "metadata": {
        "id": "cBdXHgYB_1nr",
        "outputId": "fe1cb480-d338-4b95-918c-3d65eb125fe2"
      },
      "outputs": [
        {
          "data": {
            "text/plain": [
              "2"
            ]
          },
          "execution_count": 66,
          "metadata": {},
          "output_type": "execute_result"
        }
      ],
      "source": [
        "array_ranint.argmin()"
      ]
    },
    {
      "cell_type": "markdown",
      "metadata": {
        "id": "XZ19zvA-_1nr"
      },
      "source": [
        "### Attributes\n",
        "* `size, shape, dtype`"
      ]
    },
    {
      "cell_type": "code",
      "execution_count": null,
      "metadata": {
        "id": "Ks4XKO88_1nr"
      },
      "outputs": [],
      "source": [
        "array_arange=np.arange(16)"
      ]
    },
    {
      "cell_type": "code",
      "execution_count": null,
      "metadata": {
        "id": "I0t0OBra_1nr",
        "outputId": "33d77bb2-5d9d-447c-96f9-876e6b88d12a"
      },
      "outputs": [
        {
          "data": {
            "text/plain": [
              "array([ 0,  1,  2,  3,  4,  5,  6,  7,  8,  9, 10, 11, 12, 13, 14, 15])"
            ]
          },
          "execution_count": 68,
          "metadata": {},
          "output_type": "execute_result"
        }
      ],
      "source": [
        "array_arange"
      ]
    },
    {
      "cell_type": "code",
      "execution_count": null,
      "metadata": {
        "id": "BUi4AQZd_1nr",
        "outputId": "fd615a38-d3a6-46a2-8d9a-afb1e4d114a8"
      },
      "outputs": [
        {
          "data": {
            "text/plain": [
              "(16,)"
            ]
          },
          "execution_count": 69,
          "metadata": {},
          "output_type": "execute_result"
        }
      ],
      "source": [
        "# Lets take vector array, array_arange\n",
        "array_arange.shape\n",
        "#reshape_test.shape"
      ]
    },
    {
      "cell_type": "code",
      "execution_count": null,
      "metadata": {
        "id": "EwUbDe5d_1nr",
        "outputId": "7bfe8c36-5231-4bc7-b96a-f17c5af5aacf"
      },
      "outputs": [
        {
          "data": {
            "text/plain": [
              "16"
            ]
          },
          "execution_count": 70,
          "metadata": {},
          "output_type": "execute_result"
        }
      ],
      "source": [
        "array_arange.size"
      ]
    },
    {
      "cell_type": "code",
      "execution_count": null,
      "metadata": {
        "id": "wMWb7G9q_1nr",
        "outputId": "66c13f35-47d1-4a06-87a7-76884089fb83"
      },
      "outputs": [
        {
          "data": {
            "text/plain": [
              "4"
            ]
          },
          "execution_count": 71,
          "metadata": {},
          "output_type": "execute_result"
        }
      ],
      "source": [
        "# Size of the array\n",
        "array_arange.itemsize"
      ]
    },
    {
      "cell_type": "code",
      "execution_count": null,
      "metadata": {
        "id": "uo9pfoTE_1nr",
        "outputId": "da8f3fa3-091a-44a8-c557-e1a713d107e9"
      },
      "outputs": [
        {
          "data": {
            "text/plain": [
              "dtype('int32')"
            ]
          },
          "execution_count": 72,
          "metadata": {},
          "output_type": "execute_result"
        }
      ],
      "source": [
        "# Type of the data.\n",
        "array_arange.dtype"
      ]
    },
    {
      "cell_type": "code",
      "execution_count": null,
      "metadata": {
        "id": "hpt8bpzy_1nr",
        "outputId": "6525aa18-8924-4180-a39a-d5ba02a57f5c"
      },
      "outputs": [
        {
          "data": {
            "text/plain": [
              "array([[ 0,  1,  2,  3],\n",
              "       [ 4,  5,  6,  7],\n",
              "       [ 8,  9, 10, 11],\n",
              "       [12, 13, 14, 15]])"
            ]
          },
          "execution_count": 73,
          "metadata": {},
          "output_type": "execute_result"
        }
      ],
      "source": [
        "array_arange.reshape(4,4)"
      ]
    },
    {
      "cell_type": "code",
      "execution_count": null,
      "metadata": {
        "id": "tZqTNnAl_1nr",
        "outputId": "806e52b7-b8f8-431a-c332-622cf4b67252"
      },
      "outputs": [
        {
          "data": {
            "text/plain": [
              "array([ 0,  1,  2,  3,  4,  5,  6,  7,  8,  9, 10, 11, 12, 13, 14, 15])"
            ]
          },
          "execution_count": 74,
          "metadata": {},
          "output_type": "execute_result"
        }
      ],
      "source": [
        "array_arange"
      ]
    },
    {
      "cell_type": "code",
      "execution_count": null,
      "metadata": {
        "id": "klv1CRkD_1nr"
      },
      "outputs": [],
      "source": [
        "array_arange.shape = (4,4)"
      ]
    },
    {
      "cell_type": "code",
      "execution_count": null,
      "metadata": {
        "id": "xzjs2IPE_1nr",
        "outputId": "9707c3c2-8235-468c-b49a-52ec62951560"
      },
      "outputs": [
        {
          "data": {
            "text/plain": [
              "array([[ 0,  1,  2,  3],\n",
              "       [ 4,  5,  6,  7],\n",
              "       [ 8,  9, 10, 11],\n",
              "       [12, 13, 14, 15]])"
            ]
          },
          "execution_count": 76,
          "metadata": {},
          "output_type": "execute_result"
        }
      ],
      "source": [
        "array_arange"
      ]
    },
    {
      "cell_type": "code",
      "execution_count": null,
      "metadata": {
        "id": "gJbeb9aL_1nr",
        "outputId": "5502eed5-08b2-4a27-8562-b38528665302"
      },
      "outputs": [
        {
          "data": {
            "text/plain": [
              "array([[ 0,  1,  2,  3,  4,  5,  6,  7,  8,  9, 10, 11, 12, 13, 14, 15]])"
            ]
          },
          "execution_count": 77,
          "metadata": {},
          "output_type": "execute_result"
        }
      ],
      "source": [
        "array_arange.reshape(1,16)"
      ]
    },
    {
      "cell_type": "code",
      "execution_count": null,
      "metadata": {
        "id": "qsxZPz4b_1ns",
        "outputId": "f230ab15-73b1-4115-c6bf-62e331abb4a7"
      },
      "outputs": [
        {
          "data": {
            "text/plain": [
              "array([[ 0,  1,  2,  3],\n",
              "       [ 4,  5,  6,  7],\n",
              "       [ 8,  9, 10, 11],\n",
              "       [12, 13, 14, 15]])"
            ]
          },
          "execution_count": 78,
          "metadata": {},
          "output_type": "execute_result"
        }
      ],
      "source": [
        "array_arange"
      ]
    },
    {
      "cell_type": "code",
      "execution_count": null,
      "metadata": {
        "id": "nAMGnJCn_1ns"
      },
      "outputs": [],
      "source": [
        "array_arange.reshape(1,16).shape"
      ]
    },
    {
      "cell_type": "markdown",
      "metadata": {
        "id": "ogsSiYRg_1ns"
      },
      "source": [
        "### Indexing & slicing of 1-D arrays (vectors)"
      ]
    },
    {
      "cell_type": "code",
      "execution_count": null,
      "metadata": {
        "id": "zg0QGDgk_1ns"
      },
      "outputs": [],
      "source": [
        "array_1d = np.array([-10, -2, 0, 2, 17, 106,200])"
      ]
    },
    {
      "cell_type": "code",
      "execution_count": null,
      "metadata": {
        "id": "epgfCWA3_1ns",
        "outputId": "e4255532-43c8-423f-8e0b-9c85075e5ccd"
      },
      "outputs": [
        {
          "data": {
            "text/plain": [
              "array([-10,  -2,   0,   2,  17, 106, 200])"
            ]
          },
          "execution_count": 80,
          "metadata": {},
          "output_type": "execute_result"
        }
      ],
      "source": [
        "array_1d"
      ]
    },
    {
      "cell_type": "code",
      "execution_count": null,
      "metadata": {
        "id": "fRwLolrD_1ns",
        "outputId": "bf5e579e-1fe9-46f0-c887-19e9ef0f6aa6"
      },
      "outputs": [
        {
          "data": {
            "text/plain": [
              "0"
            ]
          },
          "execution_count": 81,
          "metadata": {},
          "output_type": "execute_result"
        }
      ],
      "source": [
        "array_1d[2]"
      ]
    },
    {
      "cell_type": "code",
      "execution_count": null,
      "metadata": {
        "id": "mwwzk0x6_1ns",
        "outputId": "260d7b89-3106-48c1-eace-07007b8ac56d"
      },
      "outputs": [
        {
          "data": {
            "text/plain": [
              "array([-10,  -2,   0])"
            ]
          },
          "execution_count": 82,
          "metadata": {},
          "output_type": "execute_result"
        }
      ],
      "source": [
        "# Getting a range value\n",
        "array_1d[0:3]"
      ]
    },
    {
      "cell_type": "code",
      "execution_count": null,
      "metadata": {
        "id": "myoynTko_1ns",
        "outputId": "3933aff0-dcc4-4300-f9de-d229f0b10bf7"
      },
      "outputs": [
        {
          "data": {
            "text/plain": [
              "106"
            ]
          },
          "execution_count": 83,
          "metadata": {},
          "output_type": "execute_result"
        }
      ],
      "source": [
        "# Using -ve index\n",
        "array_1d[-2]"
      ]
    },
    {
      "cell_type": "code",
      "execution_count": null,
      "metadata": {
        "id": "GvPHkvwz_1ns",
        "outputId": "cdc7e24b-8c7f-4251-ba8a-9f5283f4528a"
      },
      "outputs": [
        {
          "data": {
            "text/plain": [
              "array([-2,  0,  2, 17])"
            ]
          },
          "execution_count": 84,
          "metadata": {},
          "output_type": "execute_result"
        }
      ],
      "source": [
        "# Using -ve index for a range\n",
        "array_1d[1:-2]"
      ]
    },
    {
      "cell_type": "code",
      "execution_count": null,
      "metadata": {
        "id": "UlbTomJF_1ns",
        "outputId": "7cfafa61-3103-4799-9ce8-907c921cea5b"
      },
      "outputs": [
        {
          "data": {
            "text/plain": [
              "array([-10,  -2,   0,   2,  17, 106, 200])"
            ]
          },
          "execution_count": 85,
          "metadata": {},
          "output_type": "execute_result"
        }
      ],
      "source": [
        "array_1d"
      ]
    },
    {
      "cell_type": "code",
      "execution_count": null,
      "metadata": {
        "id": "7s2-lT9W_1ns",
        "outputId": "7311cd0f-8686-4238-f20d-02c76c71487f"
      },
      "outputs": [
        {
          "data": {
            "text/plain": [
              "array([-10,  -2])"
            ]
          },
          "execution_count": 86,
          "metadata": {},
          "output_type": "execute_result"
        }
      ],
      "source": [
        "array_1d[:2]"
      ]
    },
    {
      "cell_type": "code",
      "execution_count": null,
      "metadata": {
        "id": "XiOT4xrD_1ns",
        "outputId": "7e013b44-7656-4cfe-8569-cd1a9e44ccc4"
      },
      "outputs": [
        {
          "data": {
            "text/plain": [
              "array([  0,   2,  17, 106, 200])"
            ]
          },
          "execution_count": 87,
          "metadata": {},
          "output_type": "execute_result"
        }
      ],
      "source": [
        "array_1d[2:]"
      ]
    },
    {
      "cell_type": "code",
      "execution_count": null,
      "metadata": {
        "id": "52xfudsS_1ns"
      },
      "outputs": [],
      "source": [
        "# Assigning a new value to a certain index in the array\n",
        "array_1d[0] = -102"
      ]
    },
    {
      "cell_type": "code",
      "execution_count": null,
      "metadata": {
        "id": "O0ZJp4q0_1ns",
        "outputId": "3fd5c31d-3671-42ba-b8c9-b09da2d1fc6d"
      },
      "outputs": [
        {
          "data": {
            "text/plain": [
              "array([-102,   -2,    0,    2,   17,  106,  200])"
            ]
          },
          "execution_count": 90,
          "metadata": {},
          "output_type": "execute_result"
        }
      ],
      "source": [
        "array_1d\n",
        "# The first element is changed to -102"
      ]
    },
    {
      "cell_type": "markdown",
      "metadata": {
        "id": "igVeriLI_1ns"
      },
      "source": [
        "###  Indexing & slicing 2-D arrays (matrices)\n",
        "\n",
        "Lets create an array with 24 elements using arange() and convert it to 2D matrix using \"shape\".<br>\n",
        "*note, 6 x 4 = 24*"
      ]
    },
    {
      "cell_type": "code",
      "execution_count": null,
      "metadata": {
        "id": "FJeuC7x-_1ns",
        "outputId": "b9a8e451-0ec4-4360-8539-bb794f47c3b2"
      },
      "outputs": [
        {
          "data": {
            "text/plain": [
              "array([[ 0,  1,  2,  3],\n",
              "       [ 4,  5,  6,  7],\n",
              "       [ 8,  9, 10, 11],\n",
              "       [12, 13, 14, 15],\n",
              "       [16, 17, 18, 19],\n",
              "       [20, 21, 22, 23]])"
            ]
          },
          "execution_count": 91,
          "metadata": {},
          "output_type": "execute_result"
        }
      ],
      "source": [
        "array_2d = np.arange(24)\n",
        "array_2d = array_2d.reshape(6,4)\n",
        "array_2d"
      ]
    },
    {
      "cell_type": "markdown",
      "metadata": {
        "id": "bQKm2hJq_1nt"
      },
      "source": [
        "To access any element, the general format is: <br>\n",
        "* **`array_2d[row][col]`** <br>or<br>\n",
        "* **`array_2d[row,col]`**.\n",
        "\n",
        "We will use `[row,col]`, easier to use comma ',' for clarity."
      ]
    },
    {
      "cell_type": "code",
      "execution_count": null,
      "metadata": {
        "id": "xZc-9NYr_1nt",
        "outputId": "b13d9f6f-284b-4894-b1e5-54993c29587c"
      },
      "outputs": [
        {
          "data": {
            "text/plain": [
              "array([ 8,  9, 10, 11])"
            ]
          },
          "execution_count": 92,
          "metadata": {},
          "output_type": "execute_result"
        }
      ],
      "source": [
        "# To get a complete row\n",
        "array_2d[2]"
      ]
    },
    {
      "cell_type": "code",
      "execution_count": null,
      "metadata": {
        "id": "dbB416c3_1nt",
        "outputId": "630c0749-55cb-41c3-ea49-9619ee53c106"
      },
      "outputs": [
        {
          "data": {
            "text/plain": [
              "array([ 8,  9, 10, 11])"
            ]
          },
          "execution_count": 93,
          "metadata": {},
          "output_type": "execute_result"
        }
      ],
      "source": [
        "array_2d[-4] # -0 and 0 is same inedex"
      ]
    },
    {
      "cell_type": "code",
      "execution_count": null,
      "metadata": {
        "id": "2tB-E41__1nt",
        "outputId": "4b6eedb2-639e-410a-c725-529cd94f4c15"
      },
      "outputs": [
        {
          "data": {
            "text/plain": [
              "array([[ 0,  1,  2,  3],\n",
              "       [ 4,  5,  6,  7],\n",
              "       [ 8,  9, 10, 11],\n",
              "       [12, 13, 14, 15],\n",
              "       [16, 17, 18, 19],\n",
              "       [20, 21, 22, 23]])"
            ]
          },
          "execution_count": 94,
          "metadata": {},
          "output_type": "execute_result"
        }
      ],
      "source": [
        "array_2d"
      ]
    },
    {
      "cell_type": "code",
      "execution_count": null,
      "metadata": {
        "id": "WGMnYrA__1nt",
        "outputId": "b383982a-369c-4fde-cad7-dd55cd90b341"
      },
      "outputs": [
        {
          "data": {
            "text/plain": [
              "22"
            ]
          },
          "execution_count": 95,
          "metadata": {},
          "output_type": "execute_result"
        }
      ],
      "source": [
        "# another way\n",
        "row = 5\n",
        "column = 2\n",
        "array_2d[row, column]"
      ]
    },
    {
      "cell_type": "code",
      "execution_count": null,
      "metadata": {
        "id": "_gJRDQOd_1nt",
        "outputId": "355255cb-4d59-4356-8ab6-65cd75dba495"
      },
      "outputs": [
        {
          "data": {
            "text/plain": [
              "22"
            ]
          },
          "execution_count": 96,
          "metadata": {},
          "output_type": "execute_result"
        }
      ],
      "source": [
        "# Just to make sure, using [row][col] :)\n",
        "array_2d[5][2]"
      ]
    },
    {
      "cell_type": "code",
      "execution_count": null,
      "metadata": {
        "id": "bumud7W1_1nt",
        "outputId": "c6687ea7-9d0b-479b-af69-0ea7b412645a"
      },
      "outputs": [
        {
          "data": {
            "text/plain": [
              "array([[ 0,  1,  2,  3],\n",
              "       [ 4,  5,  6,  7],\n",
              "       [ 8,  9, 10, 11],\n",
              "       [12, 13, 14, 15],\n",
              "       [16, 17, 18, 19],\n",
              "       [20, 21, 22, 23]])"
            ]
          },
          "execution_count": 97,
          "metadata": {},
          "output_type": "execute_result"
        }
      ],
      "source": [
        "array_2d"
      ]
    },
    {
      "cell_type": "code",
      "execution_count": null,
      "metadata": {
        "id": "Wx9dJc6X_1nt",
        "outputId": "e2957fc8-0d7d-45b4-bc40-92e4d130b6f8"
      },
      "outputs": [
        {
          "data": {
            "text/plain": [
              "array([[0, 1],\n",
              "       [4, 5]])"
            ]
          },
          "execution_count": 98,
          "metadata": {},
          "output_type": "execute_result"
        }
      ],
      "source": [
        "# 2D array slicing\n",
        "array_2d[:2,:2]"
      ]
    },
    {
      "cell_type": "markdown",
      "metadata": {
        "id": "6Dt2flDk_1nt"
      },
      "source": [
        "### Broadcasting\n",
        "\n",
        "Numpy arrays are different from normal Python lists because of their ability to broadcast. We will only cover the basics, for further details on broadcasting rules, click [here](https://docs.scipy.org/doc/numpy/user/basics.broadcasting.html) <br>\n",
        "Another good read on [broadcasting](https://jakevdp.github.io/PythonDataScienceHandbook/02.05-computation-on-arrays-broadcasting.html)!<br>\n",
        "\n",
        "**Lets start with some simple examples:**"
      ]
    },
    {
      "cell_type": "code",
      "execution_count": null,
      "metadata": {
        "id": "BYSxjNTu_1nt"
      },
      "outputs": [],
      "source": [
        "# Lets create an array using arange()\n",
        "array_1d = np.arange(0,10)\n",
        "array_1d"
      ]
    },
    {
      "cell_type": "markdown",
      "metadata": {
        "id": "Tc4kKC06_1nt"
      },
      "source": [
        "Take a slice of the array and set it equal to some number, say 500.<br>\n",
        "\n",
        "        array_1d[0:5] = 500\n",
        "this will **broadcast the value of 500 to the first 5 elements** of the array_1d"
      ]
    },
    {
      "cell_type": "code",
      "execution_count": null,
      "metadata": {
        "id": "p9Epe_Tq_1nt"
      },
      "outputs": [],
      "source": [
        "array_1d[0:5] = 500\n",
        "array_1d"
      ]
    },
    {
      "cell_type": "code",
      "execution_count": null,
      "metadata": {
        "id": "JESJVJd-_1nt"
      },
      "outputs": [],
      "source": [
        "# Lets create a 2D martix with ones\n",
        "array_2d = np.ones((4,4), dtype=int)\n",
        "array_2d"
      ]
    },
    {
      "cell_type": "code",
      "execution_count": null,
      "metadata": {
        "id": "qflt6CYa_1nt"
      },
      "outputs": [],
      "source": [
        "# Lets broadcast 300 to the first row of array_2d\n",
        "array_2d[0] = 300\n",
        "array_2d"
      ]
    },
    {
      "cell_type": "code",
      "execution_count": null,
      "metadata": {
        "id": "B83xr7DZ_1nt"
      },
      "outputs": [],
      "source": [
        "# Lets create a simple 1-D array and broadcast to array_2d\n",
        "array_2d + np.arange(0,4)  #[0,1,2,3]\n",
        "# try array_2d + np.arange(0,3), did this work? if not why?"
      ]
    },
    {
      "cell_type": "code",
      "execution_count": null,
      "metadata": {
        "id": "fJaZRw5Y_1nt"
      },
      "outputs": [],
      "source": [
        "array_2d"
      ]
    },
    {
      "cell_type": "code",
      "execution_count": null,
      "metadata": {
        "id": "FzVJNTP7_1nu"
      },
      "outputs": [],
      "source": [
        "array_2d * np.arange(0,4)"
      ]
    },
    {
      "cell_type": "code",
      "execution_count": null,
      "metadata": {
        "id": "8c2YggOM_1nu"
      },
      "outputs": [],
      "source": [
        "array_2d + 300\n",
        "# array_2d + [300,2], did it work? if not why?"
      ]
    },
    {
      "cell_type": "code",
      "execution_count": null,
      "metadata": {
        "id": "AW-MzQwM_1nu"
      },
      "outputs": [],
      "source": [
        "array_2d"
      ]
    },
    {
      "cell_type": "code",
      "execution_count": null,
      "metadata": {
        "id": "TDTQcqDS_1nu"
      },
      "outputs": [],
      "source": [
        "array_2d[[3, 1]]"
      ]
    },
    {
      "cell_type": "code",
      "execution_count": null,
      "metadata": {
        "id": "OGohDc7u_1nu"
      },
      "outputs": [],
      "source": [
        "array_2d[:,[2]]"
      ]
    },
    {
      "cell_type": "code",
      "execution_count": null,
      "metadata": {
        "id": "33xC8Zu3_1nu"
      },
      "outputs": [],
      "source": [
        "array_2d"
      ]
    },
    {
      "cell_type": "code",
      "execution_count": null,
      "metadata": {
        "id": "Ya_30mqg_1nu"
      },
      "outputs": [],
      "source": [
        "# We can use any order\n",
        "array_2d[[3, 1]]"
      ]
    },
    {
      "cell_type": "code",
      "execution_count": null,
      "metadata": {
        "id": "Qqwlu4kL_1nu"
      },
      "outputs": [],
      "source": [
        "# lets try another matrix\n",
        "array_2d = np.arange(24)\n",
        "array_2d.shape = (6,4)\n",
        "array_2d"
      ]
    },
    {
      "cell_type": "code",
      "execution_count": null,
      "metadata": {
        "id": "U4m4Wccs_1nu"
      },
      "outputs": [],
      "source": [
        "# grabbing rows\n",
        "array_2d[[2,3]] #[2][3]"
      ]
    },
    {
      "cell_type": "code",
      "execution_count": null,
      "metadata": {
        "id": "2YCztbIc_1nu"
      },
      "outputs": [],
      "source": [
        "array_2d[:3, [2,3]]"
      ]
    },
    {
      "cell_type": "code",
      "execution_count": null,
      "metadata": {
        "id": "7J-QS12L_1nu"
      },
      "outputs": [],
      "source": [
        "# grabbing columns\n",
        "#array_2d[:,3:2]\n",
        "array_2d[:,[3,2]]"
      ]
    },
    {
      "cell_type": "code",
      "execution_count": null,
      "metadata": {
        "id": "gf5buqjQ_1nu"
      },
      "outputs": [],
      "source": [
        "# Lets create a simple array using arange()\n",
        "array_1d = np.arange(1,11)\n",
        "array_1d"
      ]
    },
    {
      "cell_type": "markdown",
      "metadata": {
        "id": "_sCKHnJF_1nu"
      },
      "source": [
        "We can apply condition such as >, <, == etc"
      ]
    },
    {
      "cell_type": "code",
      "execution_count": null,
      "metadata": {
        "id": "DH5qTla1_1nu"
      },
      "outputs": [],
      "source": [
        "array_1d > 3"
      ]
    },
    {
      "cell_type": "code",
      "execution_count": null,
      "metadata": {
        "id": "WU4c2eEK_1nu"
      },
      "outputs": [],
      "source": [
        "# lets create a bool_array for some condition, say array_1d > 3\n",
        "bool_array = array_1d > 3\n",
        "bool_array"
      ]
    },
    {
      "cell_type": "markdown",
      "metadata": {
        "id": "1_Fz6b-H_1nu"
      },
      "source": [
        "Lets create a mask to **filter out the even numbers in \"array_1d\"**"
      ]
    },
    {
      "cell_type": "code",
      "execution_count": null,
      "metadata": {
        "id": "KtAe1pzr_1nu"
      },
      "outputs": [],
      "source": [
        "array_1d % 2"
      ]
    },
    {
      "cell_type": "code",
      "execution_count": null,
      "metadata": {
        "id": "YS3BFrbZ_1nu"
      },
      "outputs": [],
      "source": [
        "0 == array_1d % 2"
      ]
    },
    {
      "cell_type": "code",
      "execution_count": null,
      "metadata": {
        "id": "cCaxIeR5_1nv"
      },
      "outputs": [],
      "source": [
        "# A number is even if, number % 2 is \"0\"\n",
        "mod_2_mask_1d = array_1d % 2 != 0\n",
        "mod_2_mask_1d"
      ]
    },
    {
      "cell_type": "code",
      "execution_count": null,
      "metadata": {
        "id": "Mn_aBy32_1nv"
      },
      "outputs": [],
      "source": [
        "array_1d"
      ]
    },
    {
      "cell_type": "code",
      "execution_count": null,
      "metadata": {
        "id": "BMtFZHka_1nv"
      },
      "outputs": [],
      "source": [
        "array_1d[mod_2_mask_1d] #array_1d[[False,  True, False,  True, False,  True, False,  True, False,True]]"
      ]
    },
    {
      "cell_type": "markdown",
      "metadata": {
        "id": "oi5aYLsy_1nv"
      },
      "source": [
        "## NumPy Operations\n",
        "\n",
        "Hi Guys,<br>\n",
        "Welcome to the NumPy Essentials lecture part 2.<br>\n",
        "\n",
        "Let's talk about NumPy operations in this section, such as:\n",
        "\n",
        "* <b>Arithmetic operations</b>\n",
        "* <b>Universal Functions (ufunc)</b>\n",
        ""
      ]
    },
    {
      "cell_type": "markdown",
      "metadata": {
        "id": "Lrz2GDC8_1nv"
      },
      "source": [
        "## Arithmetic operations\n",
        "\n",
        "We can perform arithmetic operations with NumPy arrays. <br>\n",
        "Let's learn with examples:"
      ]
    },
    {
      "cell_type": "code",
      "execution_count": null,
      "metadata": {
        "id": "m_6lu4jk_1nv"
      },
      "outputs": [],
      "source": [
        "# Let's create an array using arange() method\n",
        "arr = np.arange(0,5)\n",
        "arr"
      ]
    },
    {
      "cell_type": "code",
      "execution_count": null,
      "metadata": {
        "id": "pDOiBcqu_1nv"
      },
      "outputs": [],
      "source": [
        "# Adding two arrays\n",
        "arr + arr  #[0, 1, 2, 3, 4] + [0, 1, 2, 3, 4]"
      ]
    },
    {
      "cell_type": "code",
      "execution_count": null,
      "metadata": {
        "id": "nzD6j0bC_1nv"
      },
      "outputs": [],
      "source": [
        "# Subtracting two arrays\n",
        "arr - arr"
      ]
    },
    {
      "cell_type": "code",
      "execution_count": null,
      "metadata": {
        "id": "wrYuKoDZ_1nv"
      },
      "outputs": [],
      "source": [
        "# Multiplication\n",
        "arr * arr"
      ]
    },
    {
      "cell_type": "code",
      "execution_count": null,
      "metadata": {
        "id": "jeszuTAe_1nv"
      },
      "outputs": [],
      "source": [
        "# Division\n",
        "arr / arr\n",
        "# warning and 0/0 is replaced with nan"
      ]
    },
    {
      "cell_type": "code",
      "execution_count": null,
      "metadata": {
        "id": "K9dWwC4q_1nv"
      },
      "outputs": [],
      "source": [
        "1/arr #[0, 1, 2, 3, 4]\n",
        "# warning for 1/0, inf"
      ]
    },
    {
      "cell_type": "code",
      "execution_count": null,
      "metadata": {
        "id": "DcWtoRS9_1nv"
      },
      "outputs": [],
      "source": [
        "# Power of all the elements in an array\n",
        "arr ** 2"
      ]
    },
    {
      "cell_type": "code",
      "execution_count": null,
      "metadata": {
        "id": "FIyjmU8K_1nv"
      },
      "outputs": [],
      "source": [
        "# Multiplication with scalar\n",
        "2 * arr #[0, 1, 2, 3, 4]"
      ]
    },
    {
      "cell_type": "markdown",
      "metadata": {
        "id": "HFKlLZqB_1nv"
      },
      "source": [
        "## Universal functions\n",
        "\n",
        "NumPy have a range of built-in [universal functions](http://docs.scipy.org/doc/numpy/reference/ufuncs.html) (ufunc). These are essentially just mathematical operations and we can use them to perform specific task, associate with the function, across the NumPy array.<br>\n",
        "Let's learn with examples:"
      ]
    },
    {
      "cell_type": "code",
      "execution_count": null,
      "metadata": {
        "id": "X_5__uyk_1nv"
      },
      "outputs": [],
      "source": [
        "# Square root\n",
        "np.sqrt(arr) #[0, 1, 2, 3, 4]"
      ]
    },
    {
      "cell_type": "code",
      "execution_count": null,
      "metadata": {
        "id": "niga6noq_1nv"
      },
      "outputs": [],
      "source": [
        "# max and min values\n",
        "np.max(arr), np.min(arr)"
      ]
    },
    {
      "cell_type": "code",
      "execution_count": null,
      "metadata": {
        "id": "sAdQRKHs_1nv"
      },
      "outputs": [],
      "source": [
        "arr.max()"
      ]
    },
    {
      "cell_type": "code",
      "execution_count": null,
      "metadata": {
        "id": "-cKxRhHM_1nv"
      },
      "outputs": [],
      "source": [
        "# Trigonometric functions, e.g. sin, cos, tan, arcsin, ......\n",
        "np.sin(arr)"
      ]
    },
    {
      "cell_type": "markdown",
      "metadata": {
        "id": "w0d5jZst_1nv"
      },
      "source": [
        "**Generate the follow matrix \"array_2d\" and replicate the provided outputs.**"
      ]
    },
    {
      "cell_type": "code",
      "execution_count": null,
      "metadata": {
        "id": "khLCRfCx_1nw"
      },
      "outputs": [],
      "source": [
        "#18a:\n",
        "# To avoid overwriting the output, please code here"
      ]
    },
    {
      "cell_type": "code",
      "execution_count": null,
      "metadata": {
        "scrolled": true,
        "id": "4RJFTasi_1nw"
      },
      "outputs": [],
      "source": [
        "array_2d= np.arange(30).reshape(6,5)\n",
        "array_2d"
      ]
    },
    {
      "cell_type": "markdown",
      "metadata": {
        "id": "U8Y3Lxt3_1nw"
      },
      "source": [
        "**Calculate the sum of all the numbers in array_2d?**"
      ]
    },
    {
      "cell_type": "code",
      "execution_count": null,
      "metadata": {
        "id": "zCTlS_Ss_1nw"
      },
      "outputs": [],
      "source": [
        "array_2d.sum()"
      ]
    },
    {
      "cell_type": "code",
      "execution_count": null,
      "metadata": {
        "id": "Xh5plw5m_1nw"
      },
      "outputs": [],
      "source": [
        "array_2d.sum(axis=1)"
      ]
    },
    {
      "cell_type": "markdown",
      "metadata": {
        "id": "OzN_ri47_1nw"
      },
      "source": [
        "**Calculate sum of all the rows and columns in array_2d.**"
      ]
    },
    {
      "cell_type": "code",
      "execution_count": null,
      "metadata": {
        "id": "8Q4jQryV_1nw"
      },
      "outputs": [],
      "source": [
        "# To avoid overwriting the output, please code here"
      ]
    },
    {
      "cell_type": "code",
      "execution_count": null,
      "metadata": {
        "id": "P2fYAInk_1nw"
      },
      "outputs": [],
      "source": [
        "print(\"Row sum:\", array_2d.sum(axis=1))\n",
        "print(\"Columns sum:\", array_2d.sum(axis=0))"
      ]
    },
    {
      "cell_type": "markdown",
      "metadata": {
        "id": "Sj8Q8E3S_1ny"
      },
      "source": [
        "**Calculate the standard deviation of the values in array_2d.**"
      ]
    },
    {
      "cell_type": "code",
      "execution_count": null,
      "metadata": {
        "id": "6tjPtl7H_1ny"
      },
      "outputs": [],
      "source": [
        "# To avoid overwriting the output, please code here"
      ]
    },
    {
      "cell_type": "code",
      "execution_count": null,
      "metadata": {
        "id": "cRq8jtjf_1ny"
      },
      "outputs": [],
      "source": [
        "array_2d.std()"
      ]
    },
    {
      "cell_type": "markdown",
      "metadata": {
        "id": "iae2wwYu_1ny"
      },
      "source": [
        "**Create a boolean mask and list out the numbers that are not divisible by 3 in array_2d.**"
      ]
    },
    {
      "cell_type": "code",
      "execution_count": null,
      "metadata": {
        "id": "R3q-vafX_1ny"
      },
      "outputs": [],
      "source": [
        "# To avoid overwriting the output, please code here"
      ]
    },
    {
      "cell_type": "code",
      "execution_count": null,
      "metadata": {
        "id": "t8BJC8wY_1ny"
      },
      "outputs": [],
      "source": [
        "array_2d"
      ]
    },
    {
      "cell_type": "code",
      "execution_count": null,
      "metadata": {
        "id": "coBM9SiN_1ny"
      },
      "outputs": [],
      "source": [
        "array_2d % 3 == 0"
      ]
    },
    {
      "cell_type": "code",
      "execution_count": null,
      "metadata": {
        "id": "E13WJlTH_1ny"
      },
      "outputs": [],
      "source": [
        "mask_mod_3 = 0 != array_2d % 3\n",
        "mask_mod_3"
      ]
    },
    {
      "cell_type": "code",
      "execution_count": null,
      "metadata": {
        "id": "NOAGaePG_1ny"
      },
      "outputs": [],
      "source": [
        "mask_mod_3 = 0 != array_2d % 3  # Creating mask for the said condition\n",
        "array_2d[mask_mod_3]            # pass the boolean mask to array_2d to return the required results"
      ]
    },
    {
      "cell_type": "code",
      "execution_count": null,
      "metadata": {
        "id": "30L4jIFt_1ny"
      },
      "outputs": [],
      "source": [
        "np.zeros(5)"
      ]
    },
    {
      "cell_type": "code",
      "execution_count": null,
      "metadata": {
        "id": "vRjJBT-u_1ny"
      },
      "outputs": [],
      "source": []
    }
  ],
  "metadata": {
    "kernelspec": {
      "display_name": "Python 3 (ipykernel)",
      "language": "python",
      "name": "python3"
    },
    "language_info": {
      "codemirror_mode": {
        "name": "ipython",
        "version": 3
      },
      "file_extension": ".py",
      "mimetype": "text/x-python",
      "name": "python",
      "nbconvert_exporter": "python",
      "pygments_lexer": "ipython3",
      "version": "3.11.5"
    },
    "colab": {
      "provenance": []
    }
  },
  "nbformat": 4,
  "nbformat_minor": 0
}