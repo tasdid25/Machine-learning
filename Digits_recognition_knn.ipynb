{
  "cells": [
    {
      "cell_type": "markdown",
      "metadata": {
        "id": "view-in-github",
        "colab_type": "text"
      },
      "source": [
        "<a href=\"https://colab.research.google.com/github/tasdid25/Machine-learning/blob/main/Digits_recognition_knn.ipynb\" target=\"_parent\"><img src=\"https://colab.research.google.com/assets/colab-badge.svg\" alt=\"Open In Colab\"/></a>"
      ]
    },
    {
      "cell_type": "markdown",
      "metadata": {
        "id": "4m0b5_-Je8bs"
      },
      "source": [
        "<h2 style=\"color:blue\" align=\"center\">Handwritten digits classification using KNN</h2>"
      ]
    },
    {
      "cell_type": "code",
      "execution_count": 104,
      "metadata": {
        "id": "yVvTjaHCe8bt"
      },
      "outputs": [],
      "source": [
        "#pip install tensorflow"
      ]
    },
    {
      "cell_type": "code",
      "execution_count": 57,
      "metadata": {
        "id": "FCiIAmIFe8bu"
      },
      "outputs": [],
      "source": [
        "from tensorflow import keras\n",
        "from tensorflow.keras import datasets\n",
        "import matplotlib.pyplot as plt\n",
        "%matplotlib inline\n",
        "import numpy as np"
      ]
    },
    {
      "cell_type": "code",
      "execution_count": 58,
      "metadata": {
        "id": "QwESCwcDe8bv"
      },
      "outputs": [],
      "source": [
        "(X_train, y_train) , (X_test, y_test) = datasets.mnist.load_data()"
      ]
    },
    {
      "cell_type": "code",
      "execution_count": 59,
      "metadata": {
        "colab": {
          "base_uri": "https://localhost:8080/"
        },
        "id": "xZe8Rh3Ce8bv",
        "outputId": "c874ea18-987f-40e5-b168-78562d5372b4"
      },
      "outputs": [
        {
          "output_type": "execute_result",
          "data": {
            "text/plain": [
              "60000"
            ]
          },
          "metadata": {},
          "execution_count": 59
        }
      ],
      "source": [
        "len(X_train)"
      ]
    },
    {
      "cell_type": "code",
      "execution_count": 60,
      "metadata": {
        "colab": {
          "base_uri": "https://localhost:8080/"
        },
        "id": "0_hj1VQxe8bv",
        "outputId": "62792d62-68f2-4a76-a429-4bdcbc60988b"
      },
      "outputs": [
        {
          "output_type": "execute_result",
          "data": {
            "text/plain": [
              "(60000, 28, 28)"
            ]
          },
          "metadata": {},
          "execution_count": 60
        }
      ],
      "source": [
        "X_train.shape"
      ]
    },
    {
      "cell_type": "code",
      "execution_count": 61,
      "metadata": {
        "colab": {
          "base_uri": "https://localhost:8080/"
        },
        "id": "LAY1h0q4e8bv",
        "outputId": "ee50236b-6624-4eea-8e1f-1e1f7545a7de"
      },
      "outputs": [
        {
          "output_type": "execute_result",
          "data": {
            "text/plain": [
              "10000"
            ]
          },
          "metadata": {},
          "execution_count": 61
        }
      ],
      "source": [
        "len(X_test)"
      ]
    },
    {
      "cell_type": "code",
      "execution_count": 62,
      "metadata": {
        "colab": {
          "base_uri": "https://localhost:8080/"
        },
        "id": "y_p-sAUve8bv",
        "outputId": "af792831-2df6-4a9d-debb-e9ca36278a43"
      },
      "outputs": [
        {
          "output_type": "execute_result",
          "data": {
            "text/plain": [
              "numpy.ndarray"
            ]
          },
          "metadata": {},
          "execution_count": 62
        }
      ],
      "source": [
        "type(X_train)"
      ]
    },
    {
      "cell_type": "code",
      "execution_count": 63,
      "metadata": {
        "colab": {
          "base_uri": "https://localhost:8080/"
        },
        "id": "62lRB-bse8bv",
        "outputId": "f6d55406-fd40-4582-afc4-538b9d9f9489"
      },
      "outputs": [
        {
          "output_type": "execute_result",
          "data": {
            "text/plain": [
              "(28, 28)"
            ]
          },
          "metadata": {},
          "execution_count": 63
        }
      ],
      "source": [
        "X_train[0].shape"
      ]
    },
    {
      "cell_type": "code",
      "execution_count": 64,
      "metadata": {
        "colab": {
          "base_uri": "https://localhost:8080/",
          "height": 68
        },
        "id": "P3EiAp9ge8bv",
        "outputId": "8bc88358-8d99-44dc-bc0f-22b5e5bf3023"
      },
      "outputs": [
        {
          "output_type": "execute_result",
          "data": {
            "text/plain": [
              "array([[  0,   0,   0,   0,   0,   0,   0,   0,   0,   0,   0,   0,   0,\n",
              "          0,   0,   0,   0,   0,   0,   0,   0,   0,   0,   0,   0,   0,\n",
              "          0,   0],\n",
              "       [  0,   0,   0,   0,   0,   0,   0,   0,   0,   0,   0,   0,   0,\n",
              "          0,   0,   0,   0,   0,   0,   0,   0,   0,   0,   0,   0,   0,\n",
              "          0,   0],\n",
              "       [  0,   0,   0,   0,   0,   0,   0,   0,   0,   0,   0,   0,   0,\n",
              "          0,   0,   0,   0,   0,   0,   0,   0,   0,   0,   0,   0,   0,\n",
              "          0,   0],\n",
              "       [  0,   0,   0,   0,   0,   0,   0,   0,   0,   0,   0,   0,   0,\n",
              "          0,   0,   0,   0,   0,   0,   0,   0,   0,   0,   0,   0,   0,\n",
              "          0,   0],\n",
              "       [  0,   0,   0,   0,   0,   0,   0,   0,   0,   0,   0,   0,   0,\n",
              "          0,   0,   0,   0,   0,   0,   0,   0,   0,   0,   0,   0,   0,\n",
              "          0,   0],\n",
              "       [  0,   0,   0,   0,   0,   0,   0,   0,   0,   0,   0,   0,   3,\n",
              "         18,  18,  18, 126, 136, 175,  26, 166, 255, 247, 127,   0,   0,\n",
              "          0,   0],\n",
              "       [  0,   0,   0,   0,   0,   0,   0,   0,  30,  36,  94, 154, 170,\n",
              "        253, 253, 253, 253, 253, 225, 172, 253, 242, 195,  64,   0,   0,\n",
              "          0,   0],\n",
              "       [  0,   0,   0,   0,   0,   0,   0,  49, 238, 253, 253, 253, 253,\n",
              "        253, 253, 253, 253, 251,  93,  82,  82,  56,  39,   0,   0,   0,\n",
              "          0,   0],\n",
              "       [  0,   0,   0,   0,   0,   0,   0,  18, 219, 253, 253, 253, 253,\n",
              "        253, 198, 182, 247, 241,   0,   0,   0,   0,   0,   0,   0,   0,\n",
              "          0,   0],\n",
              "       [  0,   0,   0,   0,   0,   0,   0,   0,  80, 156, 107, 253, 253,\n",
              "        205,  11,   0,  43, 154,   0,   0,   0,   0,   0,   0,   0,   0,\n",
              "          0,   0],\n",
              "       [  0,   0,   0,   0,   0,   0,   0,   0,   0,  14,   1, 154, 253,\n",
              "         90,   0,   0,   0,   0,   0,   0,   0,   0,   0,   0,   0,   0,\n",
              "          0,   0],\n",
              "       [  0,   0,   0,   0,   0,   0,   0,   0,   0,   0,   0, 139, 253,\n",
              "        190,   2,   0,   0,   0,   0,   0,   0,   0,   0,   0,   0,   0,\n",
              "          0,   0],\n",
              "       [  0,   0,   0,   0,   0,   0,   0,   0,   0,   0,   0,  11, 190,\n",
              "        253,  70,   0,   0,   0,   0,   0,   0,   0,   0,   0,   0,   0,\n",
              "          0,   0],\n",
              "       [  0,   0,   0,   0,   0,   0,   0,   0,   0,   0,   0,   0,  35,\n",
              "        241, 225, 160, 108,   1,   0,   0,   0,   0,   0,   0,   0,   0,\n",
              "          0,   0],\n",
              "       [  0,   0,   0,   0,   0,   0,   0,   0,   0,   0,   0,   0,   0,\n",
              "         81, 240, 253, 253, 119,  25,   0,   0,   0,   0,   0,   0,   0,\n",
              "          0,   0],\n",
              "       [  0,   0,   0,   0,   0,   0,   0,   0,   0,   0,   0,   0,   0,\n",
              "          0,  45, 186, 253, 253, 150,  27,   0,   0,   0,   0,   0,   0,\n",
              "          0,   0],\n",
              "       [  0,   0,   0,   0,   0,   0,   0,   0,   0,   0,   0,   0,   0,\n",
              "          0,   0,  16,  93, 252, 253, 187,   0,   0,   0,   0,   0,   0,\n",
              "          0,   0],\n",
              "       [  0,   0,   0,   0,   0,   0,   0,   0,   0,   0,   0,   0,   0,\n",
              "          0,   0,   0,   0, 249, 253, 249,  64,   0,   0,   0,   0,   0,\n",
              "          0,   0],\n",
              "       [  0,   0,   0,   0,   0,   0,   0,   0,   0,   0,   0,   0,   0,\n",
              "          0,  46, 130, 183, 253, 253, 207,   2,   0,   0,   0,   0,   0,\n",
              "          0,   0],\n",
              "       [  0,   0,   0,   0,   0,   0,   0,   0,   0,   0,   0,   0,  39,\n",
              "        148, 229, 253, 253, 253, 250, 182,   0,   0,   0,   0,   0,   0,\n",
              "          0,   0],\n",
              "       [  0,   0,   0,   0,   0,   0,   0,   0,   0,   0,  24, 114, 221,\n",
              "        253, 253, 253, 253, 201,  78,   0,   0,   0,   0,   0,   0,   0,\n",
              "          0,   0],\n",
              "       [  0,   0,   0,   0,   0,   0,   0,   0,  23,  66, 213, 253, 253,\n",
              "        253, 253, 198,  81,   2,   0,   0,   0,   0,   0,   0,   0,   0,\n",
              "          0,   0],\n",
              "       [  0,   0,   0,   0,   0,   0,  18, 171, 219, 253, 253, 253, 253,\n",
              "        195,  80,   9,   0,   0,   0,   0,   0,   0,   0,   0,   0,   0,\n",
              "          0,   0],\n",
              "       [  0,   0,   0,   0,  55, 172, 226, 253, 253, 253, 253, 244, 133,\n",
              "         11,   0,   0,   0,   0,   0,   0,   0,   0,   0,   0,   0,   0,\n",
              "          0,   0],\n",
              "       [  0,   0,   0,   0, 136, 253, 253, 253, 212, 135, 132,  16,   0,\n",
              "          0,   0,   0,   0,   0,   0,   0,   0,   0,   0,   0,   0,   0,\n",
              "          0,   0],\n",
              "       [  0,   0,   0,   0,   0,   0,   0,   0,   0,   0,   0,   0,   0,\n",
              "          0,   0,   0,   0,   0,   0,   0,   0,   0,   0,   0,   0,   0,\n",
              "          0,   0],\n",
              "       [  0,   0,   0,   0,   0,   0,   0,   0,   0,   0,   0,   0,   0,\n",
              "          0,   0,   0,   0,   0,   0,   0,   0,   0,   0,   0,   0,   0,\n",
              "          0,   0],\n",
              "       [  0,   0,   0,   0,   0,   0,   0,   0,   0,   0,   0,   0,   0,\n",
              "          0,   0,   0,   0,   0,   0,   0,   0,   0,   0,   0,   0,   0,\n",
              "          0,   0]], dtype=uint8)"
            ],
            "text/html": [
              "<style>\n",
              "      .ndarray_repr .ndarray_raw_data {\n",
              "        display: none;\n",
              "      }\n",
              "      .ndarray_repr.show_array .ndarray_raw_data {\n",
              "        display: block;\n",
              "      }\n",
              "      .ndarray_repr.show_array .ndarray_image_preview {\n",
              "        display: none;\n",
              "      }\n",
              "      </style>\n",
              "      <div id=\"id-c7928c56-35c4-445f-b67b-3ec71dbb791d\" class=\"ndarray_repr\"><pre>ndarray (28, 28) <button style=\"padding: 0 2px;\">show data</button></pre><img src=\"data:image/png;base64,iVBORw0KGgoAAAANSUhEUgAAABwAAAAcCAAAAABXZoBIAAABAElEQVR4nGNgGMyAWUhIqK5jvdSy/9/rGRgYGFhgEnJsVjYCwQwMDAxPJgV+vniQgYGBgREqZ7iXH8r6l/SV4dn7m8gmCt3++/fv37/Htn3/iMW+gDnZf/+e5WbQnoXNNXyMs/5GoQoxwVmf/n9kSGFiwAW49/11wynJoPzx4YIcRlyygR/+/i2XxCWru+vv32nSuGQFYv/83Y3b4p9/fzpAmSyoMnohpiwM1w5h06Q+5enfv39/bcMiJVF09+/fv39P+mFKiTtd/fv3799jgZiBJLT69t+/f/8eDuDEkDJf8+jv379/v7Ryo4qzMDAwMAQGMjBc3/y35wM2V1IfAABFF16Aa0wAOwAAAABJRU5ErkJggg==\" class=\"ndarray_image_preview\" /><pre class=\"ndarray_raw_data\">array([[  0,   0,   0,   0,   0,   0,   0,   0,   0,   0,   0,   0,   0,\n",
              "          0,   0,   0,   0,   0,   0,   0,   0,   0,   0,   0,   0,   0,\n",
              "          0,   0],\n",
              "       [  0,   0,   0,   0,   0,   0,   0,   0,   0,   0,   0,   0,   0,\n",
              "          0,   0,   0,   0,   0,   0,   0,   0,   0,   0,   0,   0,   0,\n",
              "          0,   0],\n",
              "       [  0,   0,   0,   0,   0,   0,   0,   0,   0,   0,   0,   0,   0,\n",
              "          0,   0,   0,   0,   0,   0,   0,   0,   0,   0,   0,   0,   0,\n",
              "          0,   0],\n",
              "       [  0,   0,   0,   0,   0,   0,   0,   0,   0,   0,   0,   0,   0,\n",
              "          0,   0,   0,   0,   0,   0,   0,   0,   0,   0,   0,   0,   0,\n",
              "          0,   0],\n",
              "       [  0,   0,   0,   0,   0,   0,   0,   0,   0,   0,   0,   0,   0,\n",
              "          0,   0,   0,   0,   0,   0,   0,   0,   0,   0,   0,   0,   0,\n",
              "          0,   0],\n",
              "       [  0,   0,   0,   0,   0,   0,   0,   0,   0,   0,   0,   0,   3,\n",
              "         18,  18,  18, 126, 136, 175,  26, 166, 255, 247, 127,   0,   0,\n",
              "          0,   0],\n",
              "       [  0,   0,   0,   0,   0,   0,   0,   0,  30,  36,  94, 154, 170,\n",
              "        253, 253, 253, 253, 253, 225, 172, 253, 242, 195,  64,   0,   0,\n",
              "          0,   0],\n",
              "       [  0,   0,   0,   0,   0,   0,   0,  49, 238, 253, 253, 253, 253,\n",
              "        253, 253, 253, 253, 251,  93,  82,  82,  56,  39,   0,   0,   0,\n",
              "          0,   0],\n",
              "       [  0,   0,   0,   0,   0,   0,   0,  18, 219, 253, 253, 253, 253,\n",
              "        253, 198, 182, 247, 241,   0,   0,   0,   0,   0,   0,   0,   0,\n",
              "          0,   0],\n",
              "       [  0,   0,   0,   0,   0,   0,   0,   0,  80, 156, 107, 253, 253,\n",
              "        205,  11,   0,  43, 154,   0,   0,   0,   0,   0,   0,   0,   0,\n",
              "          0,   0],\n",
              "       [  0,   0,   0,   0,   0,   0,   0,   0,   0,  14,   1, 154, 253,\n",
              "         90,   0,   0,   0,   0,   0,   0,   0,   0,   0,   0,   0,   0,\n",
              "          0,   0],\n",
              "       [  0,   0,   0,   0,   0,   0,   0,   0,   0,   0,   0, 139, 253,\n",
              "        190,   2,   0,   0,   0,   0,   0,   0,   0,   0,   0,   0,   0,\n",
              "          0,   0],\n",
              "       [  0,   0,   0,   0,   0,   0,   0,   0,   0,   0,   0,  11, 190,\n",
              "        253,  70,   0,   0,   0,   0,   0,   0,   0,   0,   0,   0,   0,\n",
              "          0,   0],\n",
              "       [  0,   0,   0,   0,   0,   0,   0,   0,   0,   0,   0,   0,  35,\n",
              "        241, 225, 160, 108,   1,   0,   0,   0,   0,   0,   0,   0,   0,\n",
              "          0,   0],\n",
              "       [  0,   0,   0,   0,   0,   0,   0,   0,   0,   0,   0,   0,   0,\n",
              "         81, 240, 253, 253, 119,  25,   0,   0,   0,   0,   0,   0,   0,\n",
              "          0,   0],\n",
              "       [  0,   0,   0,   0,   0,   0,   0,   0,   0,   0,   0,   0,   0,\n",
              "          0,  45, 186, 253, 253, 150,  27,   0,   0,   0,   0,   0,   0,\n",
              "          0,   0],\n",
              "       [  0,   0,   0,   0,   0,   0,   0,   0,   0,   0,   0,   0,   0,\n",
              "          0,   0,  16,  93, 252, 253, 187,   0,   0,   0,   0,   0,   0,\n",
              "          0,   0],\n",
              "       [  0,   0,   0,   0,   0,   0,   0,   0,   0,   0,   0,   0,   0,\n",
              "          0,   0,   0,   0, 249, 253, 249,  64,   0,   0,   0,   0,   0,\n",
              "          0,   0],\n",
              "       [  0,   0,   0,   0,   0,   0,   0,   0,   0,   0,   0,   0,   0,\n",
              "          0,  46, 130, 183, 253, 253, 207,   2,   0,   0,   0,   0,   0,\n",
              "          0,   0],\n",
              "       [  0,   0,   0,   0,   0,   0,   0,   0,   0,   0,   0,   0,  39,\n",
              "        148, 229, 253, 253, 253, 250, 182,   0,   0,   0,   0,   0,   0,\n",
              "          0,   0],\n",
              "       [  0,   0,   0,   0,   0,   0,   0,   0,   0,   0,  24, 114, 221,\n",
              "        253, 253, 253, 253, 201,  78,   0,   0,   0,   0,   0,   0,   0,\n",
              "          0,   0],\n",
              "       [  0,   0,   0,   0,   0,   0,   0,   0,  23,  66, 213, 253, 253,\n",
              "        253, 253, 198,  81,   2,   0,   0,   0,   0,   0,   0,   0,   0,\n",
              "          0,   0],\n",
              "       [  0,   0,   0,   0,   0,   0,  18, 171, 219, 253, 253, 253, 253,\n",
              "        195,  80,   9,   0,   0,   0,   0,   0,   0,   0,   0,   0,   0,\n",
              "          0,   0],\n",
              "       [  0,   0,   0,   0,  55, 172, 226, 253, 253, 253, 253, 244, 133,\n",
              "         11,   0,   0,   0,   0,   0,   0,   0,   0,   0,   0,   0,   0,\n",
              "          0,   0],\n",
              "       [  0,   0,   0,   0, 136, 253, 253, 253, 212, 135, 132,  16,   0,\n",
              "          0,   0,   0,   0,   0,   0,   0,   0,   0,   0,   0,   0,   0,\n",
              "          0,   0],\n",
              "       [  0,   0,   0,   0,   0,   0,   0,   0,   0,   0,   0,   0,   0,\n",
              "          0,   0,   0,   0,   0,   0,   0,   0,   0,   0,   0,   0,   0,\n",
              "          0,   0],\n",
              "       [  0,   0,   0,   0,   0,   0,   0,   0,   0,   0,   0,   0,   0,\n",
              "          0,   0,   0,   0,   0,   0,   0,   0,   0,   0,   0,   0,   0,\n",
              "          0,   0],\n",
              "       [  0,   0,   0,   0,   0,   0,   0,   0,   0,   0,   0,   0,   0,\n",
              "          0,   0,   0,   0,   0,   0,   0,   0,   0,   0,   0,   0,   0,\n",
              "          0,   0]], dtype=uint8)</pre></div><script>\n",
              "      (() => {\n",
              "      const titles = ['show data', 'hide data'];\n",
              "      let index = 0\n",
              "      document.querySelector('#id-c7928c56-35c4-445f-b67b-3ec71dbb791d button').onclick = (e) => {\n",
              "        document.querySelector('#id-c7928c56-35c4-445f-b67b-3ec71dbb791d').classList.toggle('show_array');\n",
              "        index = (++index) % 2;\n",
              "        document.querySelector('#id-c7928c56-35c4-445f-b67b-3ec71dbb791d button').textContent = titles[index];\n",
              "        e.preventDefault();\n",
              "        e.stopPropagation();\n",
              "      }\n",
              "      })();\n",
              "    </script>"
            ]
          },
          "metadata": {},
          "execution_count": 64
        }
      ],
      "source": [
        "X_train[0]"
      ]
    },
    {
      "cell_type": "code",
      "execution_count": 65,
      "metadata": {
        "colab": {
          "base_uri": "https://localhost:8080/",
          "height": 454
        },
        "id": "gg-0uv8-e8bv",
        "outputId": "8dec231d-17f1-428c-af84-6afb2ae2c946"
      },
      "outputs": [
        {
          "output_type": "execute_result",
          "data": {
            "text/plain": [
              "<matplotlib.image.AxesImage at 0x7a648b325540>"
            ]
          },
          "metadata": {},
          "execution_count": 65
        },
        {
          "output_type": "display_data",
          "data": {
            "text/plain": [
              "<Figure size 480x480 with 1 Axes>"
            ],
            "image/png": "[encoded data removed]"
          },
          "metadata": {}
        }
      ],
      "source": [
        "plt.matshow(X_train[0]) #S"
      ]
    },
    {
      "cell_type": "code",
      "execution_count": 66,
      "metadata": {
        "colab": {
          "base_uri": "https://localhost:8080/"
        },
        "id": "BB7FdNIee8bw",
        "outputId": "b01666e8-522d-4926-cf35-998ce93828fe"
      },
      "outputs": [
        {
          "output_type": "execute_result",
          "data": {
            "text/plain": [
              "5"
            ]
          },
          "metadata": {},
          "execution_count": 66
        }
      ],
      "source": [
        "y_train[0]"
      ]
    },
    {
      "cell_type": "code",
      "execution_count": 67,
      "metadata": {
        "id": "WFJtf9dVe8bw"
      },
      "outputs": [],
      "source": [
        "X_train = X_train / 255\n",
        "X_test = X_test / 255"
      ]
    },
    {
      "cell_type": "code",
      "execution_count": 105,
      "metadata": {
        "id": "ruJnP05te8bw"
      },
      "outputs": [],
      "source": [
        "#X_train[0]"
      ]
    },
    {
      "cell_type": "markdown",
      "source": [
        "![image.png](data:image/png;base64,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)"
      ],
      "metadata": {
        "id": "Gxw3pJpTldUf"
      }
    },
    {
      "cell_type": "code",
      "execution_count": 69,
      "metadata": {
        "colab": {
          "base_uri": "https://localhost:8080/",
          "height": 454
        },
        "id": "nDTsGdLAe8bw",
        "outputId": "b8f53033-3b1f-4d54-efe4-da3a6b21a439"
      },
      "outputs": [
        {
          "output_type": "execute_result",
          "data": {
            "text/plain": [
              "<matplotlib.image.AxesImage at 0x7a64884bab00>"
            ]
          },
          "metadata": {},
          "execution_count": 69
        },
        {
          "output_type": "display_data",
          "data": {
            "text/plain": [
              "<Figure size 480x480 with 1 Axes>"
            ],
            "image/png": "[encoded data removed]"
          },
          "metadata": {}
        }
      ],
      "source": [
        "plt.matshow(X_train[0])"
      ]
    },
    {
      "cell_type": "code",
      "execution_count": 70,
      "metadata": {
        "id": "_lZ-QAaee8bw"
      },
      "outputs": [],
      "source": [
        "X_train_flattened = X_train.reshape(len(X_train), 28*28)   #60000, 784\n",
        "X_test_flattened = X_test.reshape(len(X_test), 28*28)"
      ]
    },
    {
      "cell_type": "code",
      "execution_count": 71,
      "metadata": {
        "scrolled": true,
        "colab": {
          "base_uri": "https://localhost:8080/",
          "height": 454
        },
        "id": "vsGjI4cje8bw",
        "outputId": "7bdf4856-fe9d-4e30-a0c5-3b7793b8f79e"
      },
      "outputs": [
        {
          "output_type": "execute_result",
          "data": {
            "text/plain": [
              "<matplotlib.image.AxesImage at 0x7a6488560640>"
            ]
          },
          "metadata": {},
          "execution_count": 71
        },
        {
          "output_type": "display_data",
          "data": {
            "text/plain": [
              "<Figure size 480x480 with 1 Axes>"
            ],
            "image/png": "[encoded data removed]"
          },
          "metadata": {}
        }
      ],
      "source": [
        "plt.matshow(X_train_flattened[0].reshape(28,28))"
      ]
    },
    {
      "cell_type": "code",
      "execution_count": 106,
      "metadata": {
        "id": "0spEqMxce8bw"
      },
      "outputs": [],
      "source": [
        "#X_train_flattened[0]"
      ]
    },
    {
      "cell_type": "markdown",
      "source": [
        "![image.png](data:image/png;base64,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)"
      ],
      "metadata": {
        "id": "PqiDFt1Wlttn"
      }
    },
    {
      "cell_type": "code",
      "execution_count": 73,
      "metadata": {
        "colab": {
          "base_uri": "https://localhost:8080/",
          "height": 80
        },
        "id": "e41LkSure8bw",
        "outputId": "c4ef02e7-6179-401c-961f-0d5a8bbb0022"
      },
      "outputs": [
        {
          "output_type": "execute_result",
          "data": {
            "text/plain": [
              "KNeighborsClassifier(n_neighbors=3)"
            ],
            "text/html": [
              "<style>#sk-container-id-2 {\n",
              "  /* Definition of color scheme common for light and dark mode */\n",
              "  --sklearn-color-text: black;\n",
              "  --sklearn-color-line: gray;\n",
              "  /* Definition of color scheme for unfitted estimators */\n",
              "  --sklearn-color-unfitted-level-0: #fff5e6;\n",
              "  --sklearn-color-unfitted-level-1: #f6e4d2;\n",
              "  --sklearn-color-unfitted-level-2: #ffe0b3;\n",
              "  --sklearn-color-unfitted-level-3: chocolate;\n",
              "  /* Definition of color scheme for fitted estimators */\n",
              "  --sklearn-color-fitted-level-0: #f0f8ff;\n",
              "  --sklearn-color-fitted-level-1: #d4ebff;\n",
              "  --sklearn-color-fitted-level-2: #b3dbfd;\n",
              "  --sklearn-color-fitted-level-3: cornflowerblue;\n",
              "\n",
              "  /* Specific color for light theme */\n",
              "  --sklearn-color-text-on-default-background: var(--sg-text-color, var(--theme-code-foreground, var(--jp-content-font-color1, black)));\n",
              "  --sklearn-color-background: var(--sg-background-color, var(--theme-background, var(--jp-layout-color0, white)));\n",
              "  --sklearn-color-border-box: var(--sg-text-color, var(--theme-code-foreground, var(--jp-content-font-color1, black)));\n",
              "  --sklearn-color-icon: #696969;\n",
              "\n",
              "  @media (prefers-color-scheme: dark) {\n",
              "    /* Redefinition of color scheme for dark theme */\n",
              "    --sklearn-color-text-on-default-background: var(--sg-text-color, var(--theme-code-foreground, var(--jp-content-font-color1, white)));\n",
              "    --sklearn-color-background: var(--sg-background-color, var(--theme-background, var(--jp-layout-color0, #111)));\n",
              "    --sklearn-color-border-box: var(--sg-text-color, var(--theme-code-foreground, var(--jp-content-font-color1, white)));\n",
              "    --sklearn-color-icon: #878787;\n",
              "  }\n",
              "}\n",
              "\n",
              "#sk-container-id-2 {\n",
              "  color: var(--sklearn-color-text);\n",
              "}\n",
              "\n",
              "#sk-container-id-2 pre {\n",
              "  padding: 0;\n",
              "}\n",
              "\n",
              "#sk-container-id-2 input.sk-hidden--visually {\n",
              "  border: 0;\n",
              "  clip: rect(1px 1px 1px 1px);\n",
              "  clip: rect(1px, 1px, 1px, 1px);\n",
              "  height: 1px;\n",
              "  margin: -1px;\n",
              "  overflow: hidden;\n",
              "  padding: 0;\n",
              "  position: absolute;\n",
              "  width: 1px;\n",
              "}\n",
              "\n",
              "#sk-container-id-2 div.sk-dashed-wrapped {\n",
              "  border: 1px dashed var(--sklearn-color-line);\n",
              "  margin: 0 0.4em 0.5em 0.4em;\n",
              "  box-sizing: border-box;\n",
              "  padding-bottom: 0.4em;\n",
              "  background-color: var(--sklearn-color-background);\n",
              "}\n",
              "\n",
              "#sk-container-id-2 div.sk-container {\n",
              "  /* jupyter's `normalize.less` sets `[hidden] { display: none; }`\n",
              "     but bootstrap.min.css set `[hidden] { display: none !important; }`\n",
              "     so we also need the `!important` here to be able to override the\n",
              "     default hidden behavior on the sphinx rendered scikit-learn.org.\n",
              "     See: https://github.com/scikit-learn/scikit-learn/issues/21755 */\n",
              "  display: inline-block !important;\n",
              "  position: relative;\n",
              "}\n",
              "\n",
              "#sk-container-id-2 div.sk-text-repr-fallback {\n",
              "  display: none;\n",
              "}\n",
              "\n",
              "div.sk-parallel-item,\n",
              "div.sk-serial,\n",
              "div.sk-item {\n",
              "  /* draw centered vertical line to link estimators */\n",
              "  background-image: linear-gradient(var(--sklearn-color-text-on-default-background), var(--sklearn-color-text-on-default-background));\n",
              "  background-size: 2px 100%;\n",
              "  background-repeat: no-repeat;\n",
              "  background-position: center center;\n",
              "}\n",
              "\n",
              "/* Parallel-specific style estimator block */\n",
              "\n",
              "#sk-container-id-2 div.sk-parallel-item::after {\n",
              "  content: \"\";\n",
              "  width: 100%;\n",
              "  border-bottom: 2px solid var(--sklearn-color-text-on-default-background);\n",
              "  flex-grow: 1;\n",
              "}\n",
              "\n",
              "#sk-container-id-2 div.sk-parallel {\n",
              "  display: flex;\n",
              "  align-items: stretch;\n",
              "  justify-content: center;\n",
              "  background-color: var(--sklearn-color-background);\n",
              "  position: relative;\n",
              "}\n",
              "\n",
              "#sk-container-id-2 div.sk-parallel-item {\n",
              "  display: flex;\n",
              "  flex-direction: column;\n",
              "}\n",
              "\n",
              "#sk-container-id-2 div.sk-parallel-item:first-child::after {\n",
              "  align-self: flex-end;\n",
              "  width: 50%;\n",
              "}\n",
              "\n",
              "#sk-container-id-2 div.sk-parallel-item:last-child::after {\n",
              "  align-self: flex-start;\n",
              "  width: 50%;\n",
              "}\n",
              "\n",
              "#sk-container-id-2 div.sk-parallel-item:only-child::after {\n",
              "  width: 0;\n",
              "}\n",
              "\n",
              "/* Serial-specific style estimator block */\n",
              "\n",
              "#sk-container-id-2 div.sk-serial {\n",
              "  display: flex;\n",
              "  flex-direction: column;\n",
              "  align-items: center;\n",
              "  background-color: var(--sklearn-color-background);\n",
              "  padding-right: 1em;\n",
              "  padding-left: 1em;\n",
              "}\n",
              "\n",
              "\n",
              "/* Toggleable style: style used for estimator/Pipeline/ColumnTransformer box that is\n",
              "clickable and can be expanded/collapsed.\n",
              "- Pipeline and ColumnTransformer use this feature and define the default style\n",
              "- Estimators will overwrite some part of the style using the `sk-estimator` class\n",
              "*/\n",
              "\n",
              "/* Pipeline and ColumnTransformer style (default) */\n",
              "\n",
              "#sk-container-id-2 div.sk-toggleable {\n",
              "  /* Default theme specific background. It is overwritten whether we have a\n",
              "  specific estimator or a Pipeline/ColumnTransformer */\n",
              "  background-color: var(--sklearn-color-background);\n",
              "}\n",
              "\n",
              "/* Toggleable label */\n",
              "#sk-container-id-2 label.sk-toggleable__label {\n",
              "  cursor: pointer;\n",
              "  display: block;\n",
              "  width: 100%;\n",
              "  margin-bottom: 0;\n",
              "  padding: 0.5em;\n",
              "  box-sizing: border-box;\n",
              "  text-align: center;\n",
              "}\n",
              "\n",
              "#sk-container-id-2 label.sk-toggleable__label-arrow:before {\n",
              "  /* Arrow on the left of the label */\n",
              "  content: \"▸\";\n",
              "  float: left;\n",
              "  margin-right: 0.25em;\n",
              "  color: var(--sklearn-color-icon);\n",
              "}\n",
              "\n",
              "#sk-container-id-2 label.sk-toggleable__label-arrow:hover:before {\n",
              "  color: var(--sklearn-color-text);\n",
              "}\n",
              "\n",
              "/* Toggleable content - dropdown */\n",
              "\n",
              "#sk-container-id-2 div.sk-toggleable__content {\n",
              "  max-height: 0;\n",
              "  max-width: 0;\n",
              "  overflow: hidden;\n",
              "  text-align: left;\n",
              "  /* unfitted */\n",
              "  background-color: var(--sklearn-color-unfitted-level-0);\n",
              "}\n",
              "\n",
              "#sk-container-id-2 div.sk-toggleable__content.fitted {\n",
              "  /* fitted */\n",
              "  background-color: var(--sklearn-color-fitted-level-0);\n",
              "}\n",
              "\n",
              "#sk-container-id-2 div.sk-toggleable__content pre {\n",
              "  margin: 0.2em;\n",
              "  border-radius: 0.25em;\n",
              "  color: var(--sklearn-color-text);\n",
              "  /* unfitted */\n",
              "  background-color: var(--sklearn-color-unfitted-level-0);\n",
              "}\n",
              "\n",
              "#sk-container-id-2 div.sk-toggleable__content.fitted pre {\n",
              "  /* unfitted */\n",
              "  background-color: var(--sklearn-color-fitted-level-0);\n",
              "}\n",
              "\n",
              "#sk-container-id-2 input.sk-toggleable__control:checked~div.sk-toggleable__content {\n",
              "  /* Expand drop-down */\n",
              "  max-height: 200px;\n",
              "  max-width: 100%;\n",
              "  overflow: auto;\n",
              "}\n",
              "\n",
              "#sk-container-id-2 input.sk-toggleable__control:checked~label.sk-toggleable__label-arrow:before {\n",
              "  content: \"▾\";\n",
              "}\n",
              "\n",
              "/* Pipeline/ColumnTransformer-specific style */\n",
              "\n",
              "#sk-container-id-2 div.sk-label input.sk-toggleable__control:checked~label.sk-toggleable__label {\n",
              "  color: var(--sklearn-color-text);\n",
              "  background-color: var(--sklearn-color-unfitted-level-2);\n",
              "}\n",
              "\n",
              "#sk-container-id-2 div.sk-label.fitted input.sk-toggleable__control:checked~label.sk-toggleable__label {\n",
              "  background-color: var(--sklearn-color-fitted-level-2);\n",
              "}\n",
              "\n",
              "/* Estimator-specific style */\n",
              "\n",
              "/* Colorize estimator box */\n",
              "#sk-container-id-2 div.sk-estimator input.sk-toggleable__control:checked~label.sk-toggleable__label {\n",
              "  /* unfitted */\n",
              "  background-color: var(--sklearn-color-unfitted-level-2);\n",
              "}\n",
              "\n",
              "#sk-container-id-2 div.sk-estimator.fitted input.sk-toggleable__control:checked~label.sk-toggleable__label {\n",
              "  /* fitted */\n",
              "  background-color: var(--sklearn-color-fitted-level-2);\n",
              "}\n",
              "\n",
              "#sk-container-id-2 div.sk-label label.sk-toggleable__label,\n",
              "#sk-container-id-2 div.sk-label label {\n",
              "  /* The background is the default theme color */\n",
              "  color: var(--sklearn-color-text-on-default-background);\n",
              "}\n",
              "\n",
              "/* On hover, darken the color of the background */\n",
              "#sk-container-id-2 div.sk-label:hover label.sk-toggleable__label {\n",
              "  color: var(--sklearn-color-text);\n",
              "  background-color: var(--sklearn-color-unfitted-level-2);\n",
              "}\n",
              "\n",
              "/* Label box, darken color on hover, fitted */\n",
              "#sk-container-id-2 div.sk-label.fitted:hover label.sk-toggleable__label.fitted {\n",
              "  color: var(--sklearn-color-text);\n",
              "  background-color: var(--sklearn-color-fitted-level-2);\n",
              "}\n",
              "\n",
              "/* Estimator label */\n",
              "\n",
              "#sk-container-id-2 div.sk-label label {\n",
              "  font-family: monospace;\n",
              "  font-weight: bold;\n",
              "  display: inline-block;\n",
              "  line-height: 1.2em;\n",
              "}\n",
              "\n",
              "#sk-container-id-2 div.sk-label-container {\n",
              "  text-align: center;\n",
              "}\n",
              "\n",
              "/* Estimator-specific */\n",
              "#sk-container-id-2 div.sk-estimator {\n",
              "  font-family: monospace;\n",
              "  border: 1px dotted var(--sklearn-color-border-box);\n",
              "  border-radius: 0.25em;\n",
              "  box-sizing: border-box;\n",
              "  margin-bottom: 0.5em;\n",
              "  /* unfitted */\n",
              "  background-color: var(--sklearn-color-unfitted-level-0);\n",
              "}\n",
              "\n",
              "#sk-container-id-2 div.sk-estimator.fitted {\n",
              "  /* fitted */\n",
              "  background-color: var(--sklearn-color-fitted-level-0);\n",
              "}\n",
              "\n",
              "/* on hover */\n",
              "#sk-container-id-2 div.sk-estimator:hover {\n",
              "  /* unfitted */\n",
              "  background-color: var(--sklearn-color-unfitted-level-2);\n",
              "}\n",
              "\n",
              "#sk-container-id-2 div.sk-estimator.fitted:hover {\n",
              "  /* fitted */\n",
              "  background-color: var(--sklearn-color-fitted-level-2);\n",
              "}\n",
              "\n",
              "/* Specification for estimator info (e.g. \"i\" and \"?\") */\n",
              "\n",
              "/* Common style for \"i\" and \"?\" */\n",
              "\n",
              ".sk-estimator-doc-link,\n",
              "a:link.sk-estimator-doc-link,\n",
              "a:visited.sk-estimator-doc-link {\n",
              "  float: right;\n",
              "  font-size: smaller;\n",
              "  line-height: 1em;\n",
              "  font-family: monospace;\n",
              "  background-color: var(--sklearn-color-background);\n",
              "  border-radius: 1em;\n",
              "  height: 1em;\n",
              "  width: 1em;\n",
              "  text-decoration: none !important;\n",
              "  margin-left: 1ex;\n",
              "  /* unfitted */\n",
              "  border: var(--sklearn-color-unfitted-level-1) 1pt solid;\n",
              "  color: var(--sklearn-color-unfitted-level-1);\n",
              "}\n",
              "\n",
              ".sk-estimator-doc-link.fitted,\n",
              "a:link.sk-estimator-doc-link.fitted,\n",
              "a:visited.sk-estimator-doc-link.fitted {\n",
              "  /* fitted */\n",
              "  border: var(--sklearn-color-fitted-level-1) 1pt solid;\n",
              "  color: var(--sklearn-color-fitted-level-1);\n",
              "}\n",
              "\n",
              "/* On hover */\n",
              "div.sk-estimator:hover .sk-estimator-doc-link:hover,\n",
              ".sk-estimator-doc-link:hover,\n",
              "div.sk-label-container:hover .sk-estimator-doc-link:hover,\n",
              ".sk-estimator-doc-link:hover {\n",
              "  /* unfitted */\n",
              "  background-color: var(--sklearn-color-unfitted-level-3);\n",
              "  color: var(--sklearn-color-background);\n",
              "  text-decoration: none;\n",
              "}\n",
              "\n",
              "div.sk-estimator.fitted:hover .sk-estimator-doc-link.fitted:hover,\n",
              ".sk-estimator-doc-link.fitted:hover,\n",
              "div.sk-label-container:hover .sk-estimator-doc-link.fitted:hover,\n",
              ".sk-estimator-doc-link.fitted:hover {\n",
              "  /* fitted */\n",
              "  background-color: var(--sklearn-color-fitted-level-3);\n",
              "  color: var(--sklearn-color-background);\n",
              "  text-decoration: none;\n",
              "}\n",
              "\n",
              "/* Span, style for the box shown on hovering the info icon */\n",
              ".sk-estimator-doc-link span {\n",
              "  display: none;\n",
              "  z-index: 9999;\n",
              "  position: relative;\n",
              "  font-weight: normal;\n",
              "  right: .2ex;\n",
              "  padding: .5ex;\n",
              "  margin: .5ex;\n",
              "  width: min-content;\n",
              "  min-width: 20ex;\n",
              "  max-width: 50ex;\n",
              "  color: var(--sklearn-color-text);\n",
              "  box-shadow: 2pt 2pt 4pt #999;\n",
              "  /* unfitted */\n",
              "  background: var(--sklearn-color-unfitted-level-0);\n",
              "  border: .5pt solid var(--sklearn-color-unfitted-level-3);\n",
              "}\n",
              "\n",
              ".sk-estimator-doc-link.fitted span {\n",
              "  /* fitted */\n",
              "  background: var(--sklearn-color-fitted-level-0);\n",
              "  border: var(--sklearn-color-fitted-level-3);\n",
              "}\n",
              "\n",
              ".sk-estimator-doc-link:hover span {\n",
              "  display: block;\n",
              "}\n",
              "\n",
              "/* \"?\"-specific style due to the `<a>` HTML tag */\n",
              "\n",
              "#sk-container-id-2 a.estimator_doc_link {\n",
              "  float: right;\n",
              "  font-size: 1rem;\n",
              "  line-height: 1em;\n",
              "  font-family: monospace;\n",
              "  background-color: var(--sklearn-color-background);\n",
              "  border-radius: 1rem;\n",
              "  height: 1rem;\n",
              "  width: 1rem;\n",
              "  text-decoration: none;\n",
              "  /* unfitted */\n",
              "  color: var(--sklearn-color-unfitted-level-1);\n",
              "  border: var(--sklearn-color-unfitted-level-1) 1pt solid;\n",
              "}\n",
              "\n",
              "#sk-container-id-2 a.estimator_doc_link.fitted {\n",
              "  /* fitted */\n",
              "  border: var(--sklearn-color-fitted-level-1) 1pt solid;\n",
              "  color: var(--sklearn-color-fitted-level-1);\n",
              "}\n",
              "\n",
              "/* On hover */\n",
              "#sk-container-id-2 a.estimator_doc_link:hover {\n",
              "  /* unfitted */\n",
              "  background-color: var(--sklearn-color-unfitted-level-3);\n",
              "  color: var(--sklearn-color-background);\n",
              "  text-decoration: none;\n",
              "}\n",
              "\n",
              "#sk-container-id-2 a.estimator_doc_link.fitted:hover {\n",
              "  /* fitted */\n",
              "  background-color: var(--sklearn-color-fitted-level-3);\n",
              "}\n",
              "</style><div id=\"sk-container-id-2\" class=\"sk-top-container\"><div class=\"sk-text-repr-fallback\"><pre>KNeighborsClassifier(n_neighbors=3)</pre><b>In a Jupyter environment, please rerun this cell to show the HTML representation or trust the notebook. <br />On GitHub, the HTML representation is unable to render, please try loading this page with nbviewer.org.</b></div><div class=\"sk-container\" hidden><div class=\"sk-item\"><div class=\"sk-estimator fitted sk-toggleable\"><input class=\"sk-toggleable__control sk-hidden--visually\" id=\"sk-estimator-id-2\" type=\"checkbox\" checked><label for=\"sk-estimator-id-2\" class=\"sk-toggleable__label fitted sk-toggleable__label-arrow fitted\">&nbsp;&nbsp;KNeighborsClassifier<a class=\"sk-estimator-doc-link fitted\" rel=\"noreferrer\" target=\"_blank\" href=\"https://scikit-learn.org/1.5/modules/generated/sklearn.neighbors.KNeighborsClassifier.html\">?<span>Documentation for KNeighborsClassifier</span></a><span class=\"sk-estimator-doc-link fitted\">i<span>Fitted</span></span></label><div class=\"sk-toggleable__content fitted\"><pre>KNeighborsClassifier(n_neighbors=3)</pre></div> </div></div></div></div>"
            ]
          },
          "metadata": {},
          "execution_count": 73
        }
      ],
      "source": [
        "from sklearn.neighbors import KNeighborsClassifier\n",
        "knn = KNeighborsClassifier(n_neighbors=3)\n",
        "knn.fit(X_train_flattened, y_train)"
      ]
    },
    {
      "cell_type": "code",
      "execution_count": 74,
      "metadata": {
        "colab": {
          "base_uri": "https://localhost:8080/"
        },
        "id": "XITEv-jIe8bw",
        "outputId": "831b179f-9ce1-4655-e6f5-246cf74fcb45"
      },
      "outputs": [
        {
          "output_type": "execute_result",
          "data": {
            "text/plain": [
              "0.9705"
            ]
          },
          "metadata": {},
          "execution_count": 74
        }
      ],
      "source": [
        "knn.score(X_test_flattened, y_test)"
      ]
    },
    {
      "cell_type": "code",
      "execution_count": 75,
      "metadata": {
        "colab": {
          "base_uri": "https://localhost:8080/"
        },
        "id": "K3c6ITa3e8bw",
        "outputId": "b2aea73b-11a5-4574-fac7-8e88c2e78386"
      },
      "outputs": [
        {
          "output_type": "execute_result",
          "data": {
            "text/plain": [
              "array([7, 2, 1, ..., 4, 5, 6], dtype=uint8)"
            ]
          },
          "metadata": {},
          "execution_count": 75
        }
      ],
      "source": [
        "knn.predict(X_test_flattened)"
      ]
    },
    {
      "cell_type": "markdown",
      "metadata": {
        "id": "NYDNvyJte8bw"
      },
      "source": [
        "<h3 style='color:purple'>Very simple neural network with no hidden layers</h3>"
      ]
    },
    {
      "cell_type": "code",
      "execution_count": 76,
      "metadata": {
        "colab": {
          "base_uri": "https://localhost:8080/",
          "height": 454
        },
        "id": "V9E3cn6le8bw",
        "outputId": "1d8fdb05-29ab-4b29-ce11-5232045563b4"
      },
      "outputs": [
        {
          "output_type": "execute_result",
          "data": {
            "text/plain": [
              "<matplotlib.image.AxesImage at 0x7a648bddd6c0>"
            ]
          },
          "metadata": {},
          "execution_count": 76
        },
        {
          "output_type": "display_data",
          "data": {
            "text/plain": [
              "<Figure size 480x480 with 1 Axes>"
            ],
            "image/png": "[encoded data removed]"
          },
          "metadata": {}
        }
      ],
      "source": [
        "#y_test[6] #X_test[11]\n",
        "\n",
        "plt.matshow(X_test[7])"
      ]
    },
    {
      "cell_type": "code",
      "execution_count": 107,
      "metadata": {
        "id": "8C22tSC1e8bw"
      },
      "outputs": [],
      "source": [
        "#X_test_flattened[7]"
      ]
    },
    {
      "cell_type": "markdown",
      "source": [
        "![image.png](data:image/png;base64,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)"
      ],
      "metadata": {
        "id": "6Rixg0Ksl43H"
      }
    },
    {
      "cell_type": "code",
      "execution_count": 78,
      "metadata": {
        "colab": {
          "base_uri": "https://localhost:8080/",
          "height": 110
        },
        "id": "GNWgO8IHe8bw",
        "outputId": "0ff09c4f-1b02-423e-81a8-eb520fdaa4fb"
      },
      "outputs": [
        {
          "output_type": "execute_result",
          "data": {
            "text/plain": [
              "   0    1    2    3    4    5    6    7    8    9    ...  774  775  776  777  \\\n",
              "0  0.0  0.0  0.0  0.0  0.0  0.0  0.0  0.0  0.0  0.0  ...  0.0  0.0  0.0  0.0   \n",
              "\n",
              "   778  779  780  781  782  783  \n",
              "0  0.0  0.0  0.0  0.0  0.0  0.0  \n",
              "\n",
              "[1 rows x 784 columns]"
            ],
            "text/html": [
              "\n",
              "  <div id=\"df-eb9f028a-2ca4-4a5f-ac03-4f6c8d8fe7ae\" class=\"colab-df-container\">\n",
              "    <div>\n",
              "<style scoped>\n",
              "    .dataframe tbody tr th:only-of-type {\n",
              "        vertical-align: middle;\n",
              "    }\n",
              "\n",
              "    .dataframe tbody tr th {\n",
              "        vertical-align: top;\n",
              "    }\n",
              "\n",
              "    .dataframe thead th {\n",
              "        text-align: right;\n",
              "    }\n",
              "</style>\n",
              "<table border=\"1\" class=\"dataframe\">\n",
              "  <thead>\n",
              "    <tr style=\"text-align: right;\">\n",
              "      <th></th>\n",
              "      <th>0</th>\n",
              "      <th>1</th>\n",
              "      <th>2</th>\n",
              "      <th>3</th>\n",
              "      <th>4</th>\n",
              "      <th>5</th>\n",
              "      <th>6</th>\n",
              "      <th>7</th>\n",
              "      <th>8</th>\n",
              "      <th>9</th>\n",
              "      <th>...</th>\n",
              "      <th>774</th>\n",
              "      <th>775</th>\n",
              "      <th>776</th>\n",
              "      <th>777</th>\n",
              "      <th>778</th>\n",
              "      <th>779</th>\n",
              "      <th>780</th>\n",
              "      <th>781</th>\n",
              "      <th>782</th>\n",
              "      <th>783</th>\n",
              "    </tr>\n",
              "  </thead>\n",
              "  <tbody>\n",
              "    <tr>\n",
              "      <th>0</th>\n",
              "      <td>0.0</td>\n",
              "      <td>0.0</td>\n",
              "      <td>0.0</td>\n",
              "      <td>0.0</td>\n",
              "      <td>0.0</td>\n",
              "      <td>0.0</td>\n",
              "      <td>0.0</td>\n",
              "      <td>0.0</td>\n",
              "      <td>0.0</td>\n",
              "      <td>0.0</td>\n",
              "      <td>...</td>\n",
              "      <td>0.0</td>\n",
              "      <td>0.0</td>\n",
              "      <td>0.0</td>\n",
              "      <td>0.0</td>\n",
              "      <td>0.0</td>\n",
              "      <td>0.0</td>\n",
              "      <td>0.0</td>\n",
              "      <td>0.0</td>\n",
              "      <td>0.0</td>\n",
              "      <td>0.0</td>\n",
              "    </tr>\n",
              "  </tbody>\n",
              "</table>\n",
              "<p>1 rows × 784 columns</p>\n",
              "</div>\n",
              "    <div class=\"colab-df-buttons\">\n",
              "\n",
              "  <div class=\"colab-df-container\">\n",
              "    <button class=\"colab-df-convert\" onclick=\"convertToInteractive('df-eb9f028a-2ca4-4a5f-ac03-4f6c8d8fe7ae')\"\n",
              "            title=\"Convert this dataframe to an interactive table.\"\n",
              "            style=\"display:none;\">\n",
              "\n",
              "  <svg xmlns=\"http://www.w3.org/2000/svg\" height=\"24px\" viewBox=\"0 -960 960 960\">\n",
              "    <path d=\"M120-120v-720h720v720H120Zm60-500h600v-160H180v160Zm220 220h160v-160H400v160Zm0 220h160v-160H400v160ZM180-400h160v-160H180v160Zm440 0h160v-160H620v160ZM180-180h160v-160H180v160Zm440 0h160v-160H620v160Z\"/>\n",
              "  </svg>\n",
              "    </button>\n",
              "\n",
              "  <style>\n",
              "    .colab-df-container {\n",
              "      display:flex;\n",
              "      gap: 12px;\n",
              "    }\n",
              "\n",
              "    .colab-df-convert {\n",
              "      background-color: #E8F0FE;\n",
              "      border: none;\n",
              "      border-radius: 50%;\n",
              "      cursor: pointer;\n",
              "      display: none;\n",
              "      fill: #1967D2;\n",
              "      height: 32px;\n",
              "      padding: 0 0 0 0;\n",
              "      width: 32px;\n",
              "    }\n",
              "\n",
              "    .colab-df-convert:hover {\n",
              "      background-color: #E2EBFA;\n",
              "      box-shadow: 0px 1px 2px rgba(60, 64, 67, 0.3), 0px 1px 3px 1px rgba(60, 64, 67, 0.15);\n",
              "      fill: #174EA6;\n",
              "    }\n",
              "\n",
              "    .colab-df-buttons div {\n",
              "      margin-bottom: 4px;\n",
              "    }\n",
              "\n",
              "    [theme=dark] .colab-df-convert {\n",
              "      background-color: #3B4455;\n",
              "      fill: #D2E3FC;\n",
              "    }\n",
              "\n",
              "    [theme=dark] .colab-df-convert:hover {\n",
              "      background-color: #434B5C;\n",
              "      box-shadow: 0px 1px 3px 1px rgba(0, 0, 0, 0.15);\n",
              "      filter: drop-shadow(0px 1px 2px rgba(0, 0, 0, 0.3));\n",
              "      fill: #FFFFFF;\n",
              "    }\n",
              "  </style>\n",
              "\n",
              "    <script>\n",
              "      const buttonEl =\n",
              "        document.querySelector('#df-eb9f028a-2ca4-4a5f-ac03-4f6c8d8fe7ae button.colab-df-convert');\n",
              "      buttonEl.style.display =\n",
              "        google.colab.kernel.accessAllowed ? 'block' : 'none';\n",
              "\n",
              "      async function convertToInteractive(key) {\n",
              "        const element = document.querySelector('#df-eb9f028a-2ca4-4a5f-ac03-4f6c8d8fe7ae');\n",
              "        const dataTable =\n",
              "          await google.colab.kernel.invokeFunction('convertToInteractive',\n",
              "                                                    [key], {});\n",
              "        if (!dataTable) return;\n",
              "\n",
              "        const docLinkHtml = 'Like what you see? Visit the ' +\n",
              "          '<a target=\"_blank\" href=https://colab.research.google.com/notebooks/data_table.ipynb>data table notebook</a>'\n",
              "          + ' to learn more about interactive tables.';\n",
              "        element.innerHTML = '';\n",
              "        dataTable['output_type'] = 'display_data';\n",
              "        await google.colab.output.renderOutput(dataTable, element);\n",
              "        const docLink = document.createElement('div');\n",
              "        docLink.innerHTML = docLinkHtml;\n",
              "        element.appendChild(docLink);\n",
              "      }\n",
              "    </script>\n",
              "  </div>\n",
              "\n",
              "\n",
              "  <div id=\"id_3e9bfef4-b2bb-42f3-b9f6-25cebb456bc2\">\n",
              "    <style>\n",
              "      .colab-df-generate {\n",
              "        background-color: #E8F0FE;\n",
              "        border: none;\n",
              "        border-radius: 50%;\n",
              "        cursor: pointer;\n",
              "        display: none;\n",
              "        fill: #1967D2;\n",
              "        height: 32px;\n",
              "        padding: 0 0 0 0;\n",
              "        width: 32px;\n",
              "      }\n",
              "\n",
              "      .colab-df-generate:hover {\n",
              "        background-color: #E2EBFA;\n",
              "        box-shadow: 0px 1px 2px rgba(60, 64, 67, 0.3), 0px 1px 3px 1px rgba(60, 64, 67, 0.15);\n",
              "        fill: #174EA6;\n",
              "      }\n",
              "\n",
              "      [theme=dark] .colab-df-generate {\n",
              "        background-color: #3B4455;\n",
              "        fill: #D2E3FC;\n",
              "      }\n",
              "\n",
              "      [theme=dark] .colab-df-generate:hover {\n",
              "        background-color: #434B5C;\n",
              "        box-shadow: 0px 1px 3px 1px rgba(0, 0, 0, 0.15);\n",
              "        filter: drop-shadow(0px 1px 2px rgba(0, 0, 0, 0.3));\n",
              "        fill: #FFFFFF;\n",
              "      }\n",
              "    </style>\n",
              "    <button class=\"colab-df-generate\" onclick=\"generateWithVariable('df')\"\n",
              "            title=\"Generate code using this dataframe.\"\n",
              "            style=\"display:none;\">\n",
              "\n",
              "  <svg xmlns=\"http://www.w3.org/2000/svg\" height=\"24px\"viewBox=\"0 0 24 24\"\n",
              "       width=\"24px\">\n",
              "    <path d=\"M7,19H8.4L18.45,9,17,7.55,7,17.6ZM5,21V16.75L18.45,3.32a2,2,0,0,1,2.83,0l1.4,1.43a1.91,1.91,0,0,1,.58,1.4,1.91,1.91,0,0,1-.58,1.4L9.25,21ZM18.45,9,17,7.55Zm-12,3A5.31,5.31,0,0,0,4.9,8.1,5.31,5.31,0,0,0,1,6.5,5.31,5.31,0,0,0,4.9,4.9,5.31,5.31,0,0,0,6.5,1,5.31,5.31,0,0,0,8.1,4.9,5.31,5.31,0,0,0,12,6.5,5.46,5.46,0,0,0,6.5,12Z\"/>\n",
              "  </svg>\n",
              "    </button>\n",
              "    <script>\n",
              "      (() => {\n",
              "      const buttonEl =\n",
              "        document.querySelector('#id_3e9bfef4-b2bb-42f3-b9f6-25cebb456bc2 button.colab-df-generate');\n",
              "      buttonEl.style.display =\n",
              "        google.colab.kernel.accessAllowed ? 'block' : 'none';\n",
              "\n",
              "      buttonEl.onclick = () => {\n",
              "        google.colab.notebook.generateWithVariable('df');\n",
              "      }\n",
              "      })();\n",
              "    </script>\n",
              "  </div>\n",
              "\n",
              "    </div>\n",
              "  </div>\n"
            ],
            "application/vnd.google.colaboratory.intrinsic+json": {
              "type": "dataframe",
              "variable_name": "df"
            }
          },
          "metadata": {},
          "execution_count": 78
        }
      ],
      "source": [
        "import pandas as pd\n",
        "df = pd.DataFrame(X_test_flattened[7])\n",
        "df = df.T\n",
        "df"
      ]
    },
    {
      "cell_type": "code",
      "execution_count": 79,
      "metadata": {
        "colab": {
          "base_uri": "https://localhost:8080/"
        },
        "id": "LmFGFvs2e8bw",
        "outputId": "b29253d0-45eb-4020-eb90-d6aa9518c775"
      },
      "outputs": [
        {
          "output_type": "execute_result",
          "data": {
            "text/plain": [
              "array([9], dtype=uint8)"
            ]
          },
          "metadata": {},
          "execution_count": 79
        }
      ],
      "source": [
        "knn.predict(df)"
      ]
    },
    {
      "cell_type": "markdown",
      "metadata": {
        "id": "F9H8S1ate8bx"
      },
      "source": [
        "### Roted"
      ]
    },
    {
      "cell_type": "code",
      "execution_count": 80,
      "metadata": {
        "id": "erfnERB1e8bx"
      },
      "outputs": [],
      "source": [
        "import cv2"
      ]
    },
    {
      "cell_type": "code",
      "execution_count": 108,
      "metadata": {
        "id": "cOoDnO5Ke8bx"
      },
      "outputs": [],
      "source": [
        "#X_test[6]"
      ]
    },
    {
      "cell_type": "markdown",
      "source": [
        "![image.png](data:image/png;base64,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)"
      ],
      "metadata": {
        "id": "sFjt3xhRmFbw"
      }
    },
    {
      "cell_type": "code",
      "execution_count": 82,
      "metadata": {
        "colab": {
          "base_uri": "https://localhost:8080/"
        },
        "id": "cTfllt0Qe8bx",
        "outputId": "082f7204-15e4-447f-dbcf-68c543dbb669"
      },
      "outputs": [
        {
          "output_type": "execute_result",
          "data": {
            "text/plain": [
              "(28, 28)"
            ]
          },
          "metadata": {},
          "execution_count": 82
        }
      ],
      "source": [
        "X_test[6].shape"
      ]
    },
    {
      "cell_type": "code",
      "execution_count": 83,
      "metadata": {
        "id": "2FC3D0JWe8bx"
      },
      "outputs": [],
      "source": [
        "h, w = X_test[6].shape[:2]\n",
        "\n",
        "center = (w / 2, h / 2)\n",
        "mat = cv2.getRotationMatrix2D(center, 90, 1)\n",
        "rotimg = cv2.warpAffine(X_test[6], mat, (h, w))"
      ]
    },
    {
      "cell_type": "code",
      "execution_count": 84,
      "metadata": {
        "colab": {
          "base_uri": "https://localhost:8080/",
          "height": 454
        },
        "id": "JwWDsXbGe8bx",
        "outputId": "084e219c-27f2-4e7c-9bb4-3665d6b67f04"
      },
      "outputs": [
        {
          "output_type": "execute_result",
          "data": {
            "text/plain": [
              "<matplotlib.image.AxesImage at 0x7a646e190580>"
            ]
          },
          "metadata": {},
          "execution_count": 84
        },
        {
          "output_type": "display_data",
          "data": {
            "text/plain": [
              "<Figure size 480x480 with 1 Axes>"
            ],
            "image/png": "[encoded data removed]"
          },
          "metadata": {}
        }
      ],
      "source": [
        "plt.matshow(rotimg)"
      ]
    },
    {
      "cell_type": "code",
      "execution_count": 85,
      "metadata": {
        "colab": {
          "base_uri": "https://localhost:8080/"
        },
        "id": "ujmGvxDae8bx",
        "outputId": "e465ae4d-381d-4633-ea4e-b9c02ebcd496"
      },
      "outputs": [
        {
          "output_type": "execute_result",
          "data": {
            "text/plain": [
              "(28, 28)"
            ]
          },
          "metadata": {},
          "execution_count": 85
        }
      ],
      "source": [
        "rotimg.shape"
      ]
    },
    {
      "cell_type": "code",
      "execution_count": 86,
      "metadata": {
        "id": "WSSqGQaSe8bx"
      },
      "outputs": [],
      "source": [
        "rotimg = rotimg.reshape(1, 28*28)"
      ]
    },
    {
      "cell_type": "code",
      "execution_count": 87,
      "metadata": {
        "colab": {
          "base_uri": "https://localhost:8080/",
          "height": 110
        },
        "id": "oPhjRXZ9e8bx",
        "outputId": "174f6b6a-7e23-4275-ebc6-7c88099aa58c"
      },
      "outputs": [
        {
          "output_type": "execute_result",
          "data": {
            "text/plain": [
              "   0    1    2    3    4    5    6    7    8    9    ...  774  775  776  777  \\\n",
              "0  0.0  0.0  0.0  0.0  0.0  0.0  0.0  0.0  0.0  0.0  ...  0.0  0.0  0.0  0.0   \n",
              "\n",
              "   778  779  780  781  782  783  \n",
              "0  0.0  0.0  0.0  0.0  0.0  0.0  \n",
              "\n",
              "[1 rows x 784 columns]"
            ],
            "text/html": [
              "\n",
              "  <div id=\"df-bb889a4a-9683-48c6-8ac5-28f5e92a2cb5\" class=\"colab-df-container\">\n",
              "    <div>\n",
              "<style scoped>\n",
              "    .dataframe tbody tr th:only-of-type {\n",
              "        vertical-align: middle;\n",
              "    }\n",
              "\n",
              "    .dataframe tbody tr th {\n",
              "        vertical-align: top;\n",
              "    }\n",
              "\n",
              "    .dataframe thead th {\n",
              "        text-align: right;\n",
              "    }\n",
              "</style>\n",
              "<table border=\"1\" class=\"dataframe\">\n",
              "  <thead>\n",
              "    <tr style=\"text-align: right;\">\n",
              "      <th></th>\n",
              "      <th>0</th>\n",
              "      <th>1</th>\n",
              "      <th>2</th>\n",
              "      <th>3</th>\n",
              "      <th>4</th>\n",
              "      <th>5</th>\n",
              "      <th>6</th>\n",
              "      <th>7</th>\n",
              "      <th>8</th>\n",
              "      <th>9</th>\n",
              "      <th>...</th>\n",
              "      <th>774</th>\n",
              "      <th>775</th>\n",
              "      <th>776</th>\n",
              "      <th>777</th>\n",
              "      <th>778</th>\n",
              "      <th>779</th>\n",
              "      <th>780</th>\n",
              "      <th>781</th>\n",
              "      <th>782</th>\n",
              "      <th>783</th>\n",
              "    </tr>\n",
              "  </thead>\n",
              "  <tbody>\n",
              "    <tr>\n",
              "      <th>0</th>\n",
              "      <td>0.0</td>\n",
              "      <td>0.0</td>\n",
              "      <td>0.0</td>\n",
              "      <td>0.0</td>\n",
              "      <td>0.0</td>\n",
              "      <td>0.0</td>\n",
              "      <td>0.0</td>\n",
              "      <td>0.0</td>\n",
              "      <td>0.0</td>\n",
              "      <td>0.0</td>\n",
              "      <td>...</td>\n",
              "      <td>0.0</td>\n",
              "      <td>0.0</td>\n",
              "      <td>0.0</td>\n",
              "      <td>0.0</td>\n",
              "      <td>0.0</td>\n",
              "      <td>0.0</td>\n",
              "      <td>0.0</td>\n",
              "      <td>0.0</td>\n",
              "      <td>0.0</td>\n",
              "      <td>0.0</td>\n",
              "    </tr>\n",
              "  </tbody>\n",
              "</table>\n",
              "<p>1 rows × 784 columns</p>\n",
              "</div>\n",
              "    <div class=\"colab-df-buttons\">\n",
              "\n",
              "  <div class=\"colab-df-container\">\n",
              "    <button class=\"colab-df-convert\" onclick=\"convertToInteractive('df-bb889a4a-9683-48c6-8ac5-28f5e92a2cb5')\"\n",
              "            title=\"Convert this dataframe to an interactive table.\"\n",
              "            style=\"display:none;\">\n",
              "\n",
              "  <svg xmlns=\"http://www.w3.org/2000/svg\" height=\"24px\" viewBox=\"0 -960 960 960\">\n",
              "    <path d=\"M120-120v-720h720v720H120Zm60-500h600v-160H180v160Zm220 220h160v-160H400v160Zm0 220h160v-160H400v160ZM180-400h160v-160H180v160Zm440 0h160v-160H620v160ZM180-180h160v-160H180v160Zm440 0h160v-160H620v160Z\"/>\n",
              "  </svg>\n",
              "    </button>\n",
              "\n",
              "  <style>\n",
              "    .colab-df-container {\n",
              "      display:flex;\n",
              "      gap: 12px;\n",
              "    }\n",
              "\n",
              "    .colab-df-convert {\n",
              "      background-color: #E8F0FE;\n",
              "      border: none;\n",
              "      border-radius: 50%;\n",
              "      cursor: pointer;\n",
              "      display: none;\n",
              "      fill: #1967D2;\n",
              "      height: 32px;\n",
              "      padding: 0 0 0 0;\n",
              "      width: 32px;\n",
              "    }\n",
              "\n",
              "    .colab-df-convert:hover {\n",
              "      background-color: #E2EBFA;\n",
              "      box-shadow: 0px 1px 2px rgba(60, 64, 67, 0.3), 0px 1px 3px 1px rgba(60, 64, 67, 0.15);\n",
              "      fill: #174EA6;\n",
              "    }\n",
              "\n",
              "    .colab-df-buttons div {\n",
              "      margin-bottom: 4px;\n",
              "    }\n",
              "\n",
              "    [theme=dark] .colab-df-convert {\n",
              "      background-color: #3B4455;\n",
              "      fill: #D2E3FC;\n",
              "    }\n",
              "\n",
              "    [theme=dark] .colab-df-convert:hover {\n",
              "      background-color: #434B5C;\n",
              "      box-shadow: 0px 1px 3px 1px rgba(0, 0, 0, 0.15);\n",
              "      filter: drop-shadow(0px 1px 2px rgba(0, 0, 0, 0.3));\n",
              "      fill: #FFFFFF;\n",
              "    }\n",
              "  </style>\n",
              "\n",
              "    <script>\n",
              "      const buttonEl =\n",
              "        document.querySelector('#df-bb889a4a-9683-48c6-8ac5-28f5e92a2cb5 button.colab-df-convert');\n",
              "      buttonEl.style.display =\n",
              "        google.colab.kernel.accessAllowed ? 'block' : 'none';\n",
              "\n",
              "      async function convertToInteractive(key) {\n",
              "        const element = document.querySelector('#df-bb889a4a-9683-48c6-8ac5-28f5e92a2cb5');\n",
              "        const dataTable =\n",
              "          await google.colab.kernel.invokeFunction('convertToInteractive',\n",
              "                                                    [key], {});\n",
              "        if (!dataTable) return;\n",
              "\n",
              "        const docLinkHtml = 'Like what you see? Visit the ' +\n",
              "          '<a target=\"_blank\" href=https://colab.research.google.com/notebooks/data_table.ipynb>data table notebook</a>'\n",
              "          + ' to learn more about interactive tables.';\n",
              "        element.innerHTML = '';\n",
              "        dataTable['output_type'] = 'display_data';\n",
              "        await google.colab.output.renderOutput(dataTable, element);\n",
              "        const docLink = document.createElement('div');\n",
              "        docLink.innerHTML = docLinkHtml;\n",
              "        element.appendChild(docLink);\n",
              "      }\n",
              "    </script>\n",
              "  </div>\n",
              "\n",
              "\n",
              "  <div id=\"id_485b047d-0f16-428d-8c96-da018a5f4399\">\n",
              "    <style>\n",
              "      .colab-df-generate {\n",
              "        background-color: #E8F0FE;\n",
              "        border: none;\n",
              "        border-radius: 50%;\n",
              "        cursor: pointer;\n",
              "        display: none;\n",
              "        fill: #1967D2;\n",
              "        height: 32px;\n",
              "        padding: 0 0 0 0;\n",
              "        width: 32px;\n",
              "      }\n",
              "\n",
              "      .colab-df-generate:hover {\n",
              "        background-color: #E2EBFA;\n",
              "        box-shadow: 0px 1px 2px rgba(60, 64, 67, 0.3), 0px 1px 3px 1px rgba(60, 64, 67, 0.15);\n",
              "        fill: #174EA6;\n",
              "      }\n",
              "\n",
              "      [theme=dark] .colab-df-generate {\n",
              "        background-color: #3B4455;\n",
              "        fill: #D2E3FC;\n",
              "      }\n",
              "\n",
              "      [theme=dark] .colab-df-generate:hover {\n",
              "        background-color: #434B5C;\n",
              "        box-shadow: 0px 1px 3px 1px rgba(0, 0, 0, 0.15);\n",
              "        filter: drop-shadow(0px 1px 2px rgba(0, 0, 0, 0.3));\n",
              "        fill: #FFFFFF;\n",
              "      }\n",
              "    </style>\n",
              "    <button class=\"colab-df-generate\" onclick=\"generateWithVariable('df')\"\n",
              "            title=\"Generate code using this dataframe.\"\n",
              "            style=\"display:none;\">\n",
              "\n",
              "  <svg xmlns=\"http://www.w3.org/2000/svg\" height=\"24px\"viewBox=\"0 0 24 24\"\n",
              "       width=\"24px\">\n",
              "    <path d=\"M7,19H8.4L18.45,9,17,7.55,7,17.6ZM5,21V16.75L18.45,3.32a2,2,0,0,1,2.83,0l1.4,1.43a1.91,1.91,0,0,1,.58,1.4,1.91,1.91,0,0,1-.58,1.4L9.25,21ZM18.45,9,17,7.55Zm-12,3A5.31,5.31,0,0,0,4.9,8.1,5.31,5.31,0,0,0,1,6.5,5.31,5.31,0,0,0,4.9,4.9,5.31,5.31,0,0,0,6.5,1,5.31,5.31,0,0,0,8.1,4.9,5.31,5.31,0,0,0,12,6.5,5.46,5.46,0,0,0,6.5,12Z\"/>\n",
              "  </svg>\n",
              "    </button>\n",
              "    <script>\n",
              "      (() => {\n",
              "      const buttonEl =\n",
              "        document.querySelector('#id_485b047d-0f16-428d-8c96-da018a5f4399 button.colab-df-generate');\n",
              "      buttonEl.style.display =\n",
              "        google.colab.kernel.accessAllowed ? 'block' : 'none';\n",
              "\n",
              "      buttonEl.onclick = () => {\n",
              "        google.colab.notebook.generateWithVariable('df');\n",
              "      }\n",
              "      })();\n",
              "    </script>\n",
              "  </div>\n",
              "\n",
              "    </div>\n",
              "  </div>\n"
            ],
            "application/vnd.google.colaboratory.intrinsic+json": {
              "type": "dataframe",
              "variable_name": "df"
            }
          },
          "metadata": {},
          "execution_count": 87
        }
      ],
      "source": [
        "df = pd.DataFrame(rotimg)\n",
        "df"
      ]
    },
    {
      "cell_type": "code",
      "execution_count": 88,
      "metadata": {
        "colab": {
          "base_uri": "https://localhost:8080/"
        },
        "id": "dJj5mBire8bx",
        "outputId": "8721d28d-25d1-4982-87ab-fb64212c84cb"
      },
      "outputs": [
        {
          "output_type": "execute_result",
          "data": {
            "text/plain": [
              "array([5], dtype=uint8)"
            ]
          },
          "metadata": {},
          "execution_count": 88
        }
      ],
      "source": [
        "knn.predict(df)"
      ]
    },
    {
      "cell_type": "markdown",
      "metadata": {
        "id": "tJ2t2TpKe8bx"
      },
      "source": [
        "### For Hard disk Image"
      ]
    },
    {
      "cell_type": "code",
      "execution_count": 89,
      "metadata": {
        "colab": {
          "base_uri": "https://localhost:8080/",
          "height": 427
        },
        "id": "ER7Pfkioe8bx",
        "outputId": "300b13ce-fd31-4ad3-8040-1450e0a46a02"
      },
      "outputs": [
        {
          "output_type": "execute_result",
          "data": {
            "text/plain": [
              "array([[255, 255, 255, ..., 255, 255, 255],\n",
              "       [255, 255, 255, ..., 255, 255, 255],\n",
              "       [255, 255, 255, ..., 255, 255, 255],\n",
              "       ...,\n",
              "       [255, 255, 255, ..., 255, 255, 255],\n",
              "       [255, 255, 255, ..., 255, 255, 255],\n",
              "       [255, 255, 255, ..., 255, 255, 255]], dtype=uint8)"
            ],
            "text/html": [
              "<style>\n",
              "      .ndarray_repr .ndarray_raw_data {\n",
              "        display: none;\n",
              "      }\n",
              "      .ndarray_repr.show_array .ndarray_raw_data {\n",
              "        display: block;\n",
              "      }\n",
              "      .ndarray_repr.show_array .ndarray_image_preview {\n",
              "        display: none;\n",
              "      }\n",
              "      </style>\n",
              "      <div id=\"id-11c38510-65ee-4e63-b651-87924164c8b4\" class=\"ndarray_repr\"><pre>ndarray (387, 386) <button style=\"padding: 0 2px;\">show data</button></pre><img src=\"data:image/png;base64,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\" class=\"ndarray_image_preview\" /><pre class=\"ndarray_raw_data\">array([[255, 255, 255, ..., 255, 255, 255],\n",
              "       [255, 255, 255, ..., 255, 255, 255],\n",
              "       [255, 255, 255, ..., 255, 255, 255],\n",
              "       ...,\n",
              "       [255, 255, 255, ..., 255, 255, 255],\n",
              "       [255, 255, 255, ..., 255, 255, 255],\n",
              "       [255, 255, 255, ..., 255, 255, 255]], dtype=uint8)</pre></div><script>\n",
              "      (() => {\n",
              "      const titles = ['show data', 'hide data'];\n",
              "      let index = 0\n",
              "      document.querySelector('#id-11c38510-65ee-4e63-b651-87924164c8b4 button').onclick = (e) => {\n",
              "        document.querySelector('#id-11c38510-65ee-4e63-b651-87924164c8b4').classList.toggle('show_array');\n",
              "        index = (++index) % 2;\n",
              "        document.querySelector('#id-11c38510-65ee-4e63-b651-87924164c8b4 button').textContent = titles[index];\n",
              "        e.preventDefault();\n",
              "        e.stopPropagation();\n",
              "      }\n",
              "      })();\n",
              "    </script>"
            ]
          },
          "metadata": {},
          "execution_count": 89
        }
      ],
      "source": [
        "modified_image = cv2.imread('modified.PNG', cv2.IMREAD_GRAYSCALE)\n",
        "modified_image"
      ]
    },
    {
      "cell_type": "code",
      "execution_count": 90,
      "metadata": {
        "colab": {
          "base_uri": "https://localhost:8080/"
        },
        "id": "bh1gnFyFe8bx",
        "outputId": "75fecdd8-9b79-40e1-cf84-7f614ae00ee3"
      },
      "outputs": [
        {
          "output_type": "execute_result",
          "data": {
            "text/plain": [
              "(387, 386)"
            ]
          },
          "metadata": {},
          "execution_count": 90
        }
      ],
      "source": [
        "modified_image.shape"
      ]
    },
    {
      "cell_type": "code",
      "execution_count": 91,
      "metadata": {
        "colab": {
          "base_uri": "https://localhost:8080/",
          "height": 452
        },
        "id": "uKGTYD4qe8b0",
        "outputId": "57eb31a8-e833-45fd-a108-1c5c49ddeb6a"
      },
      "outputs": [
        {
          "output_type": "execute_result",
          "data": {
            "text/plain": [
              "<matplotlib.image.AxesImage at 0x7a646e1d1e40>"
            ]
          },
          "metadata": {},
          "execution_count": 91
        },
        {
          "output_type": "display_data",
          "data": {
            "text/plain": [
              "<Figure size 640x480 with 1 Axes>"
            ],
            "image/png": "[encoded data removed]"
          },
          "metadata": {}
        }
      ],
      "source": [
        "plt.imshow(modified_image, cmap='gray')"
      ]
    },
    {
      "cell_type": "code",
      "execution_count": 92,
      "metadata": {
        "colab": {
          "base_uri": "https://localhost:8080/",
          "height": 427
        },
        "id": "hGecOghRe8b1",
        "outputId": "f28f9091-a619-4703-b57b-71db3b50e06b"
      },
      "outputs": [
        {
          "output_type": "execute_result",
          "data": {
            "text/plain": [
              "array([[0, 0, 0, ..., 0, 0, 0],\n",
              "       [0, 0, 0, ..., 0, 0, 0],\n",
              "       [0, 0, 0, ..., 0, 0, 0],\n",
              "       ...,\n",
              "       [0, 0, 0, ..., 0, 0, 0],\n",
              "       [0, 0, 0, ..., 0, 0, 0],\n",
              "       [0, 0, 0, ..., 0, 0, 0]], dtype=uint8)"
            ],
            "text/html": [
              "<style>\n",
              "      .ndarray_repr .ndarray_raw_data {\n",
              "        display: none;\n",
              "      }\n",
              "      .ndarray_repr.show_array .ndarray_raw_data {\n",
              "        display: block;\n",
              "      }\n",
              "      .ndarray_repr.show_array .ndarray_image_preview {\n",
              "        display: none;\n",
              "      }\n",
              "      </style>\n",
              "      <div id=\"id-f9fd8c3d-4160-4464-b8fb-8d8124cf8a1c\" class=\"ndarray_repr\"><pre>ndarray (387, 386) <button style=\"padding: 0 2px;\">show data</button></pre><img src=\"data:image/png;base64,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\" class=\"ndarray_image_preview\" /><pre class=\"ndarray_raw_data\">array([[0, 0, 0, ..., 0, 0, 0],\n",
              "       [0, 0, 0, ..., 0, 0, 0],\n",
              "       [0, 0, 0, ..., 0, 0, 0],\n",
              "       ...,\n",
              "       [0, 0, 0, ..., 0, 0, 0],\n",
              "       [0, 0, 0, ..., 0, 0, 0],\n",
              "       [0, 0, 0, ..., 0, 0, 0]], dtype=uint8)</pre></div><script>\n",
              "      (() => {\n",
              "      const titles = ['show data', 'hide data'];\n",
              "      let index = 0\n",
              "      document.querySelector('#id-f9fd8c3d-4160-4464-b8fb-8d8124cf8a1c button').onclick = (e) => {\n",
              "        document.querySelector('#id-f9fd8c3d-4160-4464-b8fb-8d8124cf8a1c').classList.toggle('show_array');\n",
              "        index = (++index) % 2;\n",
              "        document.querySelector('#id-f9fd8c3d-4160-4464-b8fb-8d8124cf8a1c button').textContent = titles[index];\n",
              "        e.preventDefault();\n",
              "        e.stopPropagation();\n",
              "      }\n",
              "      })();\n",
              "    </script>"
            ]
          },
          "metadata": {},
          "execution_count": 92
        }
      ],
      "source": [
        "img_resizedM = cv2.bitwise_not(modified_image)\n",
        "img_resizedM"
      ]
    },
    {
      "cell_type": "code",
      "execution_count": 93,
      "metadata": {
        "colab": {
          "base_uri": "https://localhost:8080/",
          "height": 452
        },
        "id": "pZ3B4Cfse8b1",
        "outputId": "6593344b-143d-479e-dfd1-960cb9322d9b"
      },
      "outputs": [
        {
          "output_type": "execute_result",
          "data": {
            "text/plain": [
              "<matplotlib.image.AxesImage at 0x7a646e05cf10>"
            ]
          },
          "metadata": {},
          "execution_count": 93
        },
        {
          "output_type": "display_data",
          "data": {
            "text/plain": [
              "<Figure size 640x480 with 1 Axes>"
            ],
            "image/png": "[encoded data removed]"
          },
          "metadata": {}
        }
      ],
      "source": [
        "plt.imshow(img_resizedM, cmap='gray')"
      ]
    },
    {
      "cell_type": "code",
      "execution_count": 94,
      "metadata": {
        "colab": {
          "base_uri": "https://localhost:8080/",
          "height": 68
        },
        "id": "iGKpmFcye8b1",
        "outputId": "fc6e4c6e-4e22-474e-b1a9-62eb0f289e39"
      },
      "outputs": [
        {
          "output_type": "execute_result",
          "data": {
            "text/plain": [
              "array([[  0,   0,   0,   0,   0,   0,   0,   0,   0,   0,   0,   0,   0,\n",
              "          0,   0,   0,   0,   0,   0,   0,   0,   0,   0,   0,   0,   0,\n",
              "          0,   0],\n",
              "       [  0,   0,   0,   0,   0,   0,   0,   0,   0,   0,   0,   0,   0,\n",
              "          0,   0,   0,   0,   0,   0,   0,   0,   0,   0,   0,   0,   0,\n",
              "          0,   0],\n",
              "       [  0,   0,   0,   0,   0,   0,   0,   0,   0,   0,   0,   0,   0,\n",
              "          0,   0,   0,   0,   0,   0,   0,   0,   0,   0,   0,   0,   0,\n",
              "          0,   0],\n",
              "       [  0,   0,   0,   0,   0,   0,   0,   0,   0,   0,   0,   0,   0,\n",
              "          0,   0,   0,   0,   0,   0,   0,   0,   0,   0,   0,   0,   0,\n",
              "          0,   0],\n",
              "       [  0,   0,   0,   0,   0,   0,   0,   0,   0,   0,   0,   0,   0,\n",
              "          0,   0,   0,   0,   0,   0,   0,   0,   0,   0,   0,   0,   0,\n",
              "          0,   0],\n",
              "       [  0,   0,   0,   0,   0,   0,   0,   0,   0,   0,   0,   0,   0,\n",
              "          0,   0,   0, 214,   0,   0,   0,   0,   0,   0,   0,   0,   0,\n",
              "          0,   0],\n",
              "       [  0,   0,   0,   0,   0,   0,   0,   0,   0,   0,   0,   0,   0,\n",
              "          0,   0,   0, 216,   0,   0,   0,   0,   0,   0,   0,   0,   0,\n",
              "          0,   0],\n",
              "       [  0,   0,   0,   0,   0,   0,   0, 122,   0,   0,   0,   0,   0,\n",
              "          0,   0,   0, 213,   0,   0,   0,   0,   0,   0,   0,   0,   0,\n",
              "          0,   0],\n",
              "       [  0,   0,   0,   0,   0,   0,   0, 178,   0,   0,   0,   0,   0,\n",
              "          0,   0,   0, 216,   0,   0,   0,   0,   0,   0,   0,   0,   0,\n",
              "          0,   0],\n",
              "       [  0,   0,   0,   0,   0,   0,  18, 160,   0,   0,   0,   0,   0,\n",
              "          0,   0,   0, 212, 112,   0,   0,   0,   0,   0,   0,   0,   0,\n",
              "          0,   0],\n",
              "       [  0,   0,   0,   0,   0,   0, 170, 146,   0,   0,   0,   0,   0,\n",
              "          0,   0,   0, 212, 149,   0,   0,   0,   0,   0,   0,   0,   0,\n",
              "          0,   0],\n",
              "       [  0,   0,   0,   0,   0,   0, 185, 132,   0,   0,   0,   0,   0,\n",
              "          0, 104, 147, 224, 208,   0,   0,   0,   0,   0,   0,   0,   0,\n",
              "          0,   0],\n",
              "       [  0,   0,   0,   0,   0,   0, 198, 127,   0,   0,   0,   0,  34,\n",
              "        205, 207, 177, 210, 161,   0,   0,   0,   0,   0,   0,   0,   0,\n",
              "          0,   0],\n",
              "       [  0,   0,   0,   0,   0,   0, 197, 126,   0,   0, 161, 205, 171,\n",
              "        120,   0,   0, 158, 178,   0,   0,   0,   0,   0,   0,   0,   0,\n",
              "          0,   0],\n",
              "       [  0,   0,   0,   0,   0,   0, 177, 201, 201, 211, 158,   0,   0,\n",
              "          0,   0,   0,   0, 195,   0,   0,   0,   0,   0,   0,   0,   0,\n",
              "          0,   0],\n",
              "       [  0,   0,   0,   0,   0,   0,   0,   0,   0,   0,   0,   0,   0,\n",
              "          0,   0,   0,   0, 203,   0,   0,   0,   0,   0,   0,   0,   0,\n",
              "          0,   0],\n",
              "       [  0,   0,   0,   0,   0,   0,   0,   0,   0,   0,   0,   0,   0,\n",
              "          0,   0,   0,   0, 209,   0,   0,   0,   0,   0,   0,   0,   0,\n",
              "          0,   0],\n",
              "       [  0,   0,   0,   0,   0,   0,   0,   0,   0,   0,   0,   0,   0,\n",
              "          0,   0,   0,   0, 212,   0,   0,   0,   0,   0,   0,   0,   0,\n",
              "          0,   0],\n",
              "       [  0,   0,   0,   0,   0,   0,   0,   0,   0,   0,   0,   0,   0,\n",
              "          0,   0,   0,   0, 212,   0,   0,   0,   0,   0,   0,   0,   0,\n",
              "          0,   0],\n",
              "       [  0,   0,   0,   0,   0,   0,   0,   0,   0,   0,   0,   0,   0,\n",
              "          0,   0,   0,   0, 211,   0,   0,   0,   0,   0,   0,   0,   0,\n",
              "          0,   0],\n",
              "       [  0,   0,   0,   0,   0,   0,   0,   0,   0,   0,   0,   0,   0,\n",
              "          0,   0,   0,   0, 207,  61,   0,   0,   0,   0,   0,   0,   0,\n",
              "          0,   0],\n",
              "       [  0,   0,   0,   0,   0,   0,   0,   0,   0,   0,   0,   0,   0,\n",
              "          0,   0,   0,   0, 191, 169,   0,   0,   0,   0,   0,   0,   0,\n",
              "          0,   0],\n",
              "       [  0,   0,   0,   0,   0,   0,   0,   0,   0,   0,   0,   0,   0,\n",
              "          0,   0,   0,   0, 169, 192,   0,   0,   0,   0,   0,   0,   0,\n",
              "          0,   0],\n",
              "       [  0,   0,   0,   0,   0,   0,   0,   0,   0,   0,   0,   0,   0,\n",
              "          0,   0,   0,   0, 161, 213,   0,   0,   0,   0,   0,   0,   0,\n",
              "          0,   0],\n",
              "       [  0,   0,   0,   0,   0,   0,   0,   0,   0,   0,   0,   0,   0,\n",
              "          0,   0,   0,   0,   0,   0,   0,   0,   0,   0,   0,   0,   0,\n",
              "          0,   0],\n",
              "       [  0,   0,   0,   0,   0,   0,   0,   0,   0,   0,   0,   0,   0,\n",
              "          0,   0,   0,   0,   0,   0,   0,   0,   0,   0,   0,   0,   0,\n",
              "          0,   0],\n",
              "       [  0,   0,   0,   0,   0,   0,   0,   0,   0,   0,   0,   0,   0,\n",
              "          0,   0,   0,   0,   0,   0,   0,   0,   0,   0,   0,   0,   0,\n",
              "          0,   0],\n",
              "       [  0,   0,   0,   0,   0,   0,   0,   0,   0,   0,   0,   0,   0,\n",
              "          0,   0,   0,   0,   0,   0,   0,   0,   0,   0,   0,   0,   0,\n",
              "          0,   0]], dtype=uint8)"
            ],
            "text/html": [
              "<style>\n",
              "      .ndarray_repr .ndarray_raw_data {\n",
              "        display: none;\n",
              "      }\n",
              "      .ndarray_repr.show_array .ndarray_raw_data {\n",
              "        display: block;\n",
              "      }\n",
              "      .ndarray_repr.show_array .ndarray_image_preview {\n",
              "        display: none;\n",
              "      }\n",
              "      </style>\n",
              "      <div id=\"id-cea5093d-8518-48c7-bd20-4b67c0e5b9d0\" class=\"ndarray_repr\"><pre>ndarray (28, 28) <button style=\"padding: 0 2px;\">show data</button></pre><img src=\"data:image/png;base64,iVBORw0KGgoAAAANSUhEUgAAABwAAAAcCAAAAABXZoBIAAAAkklEQVR4nGNgGOzgGhKbCV2SCQu7CibwF4ukBUyAGVNS6B1M4E8BhuSMT3ARVYQkC4TivwWhM7R5rDEkeX8zMDAwKK1mevTpIobk//8MDAt17q3uYJgngpBkhFAbJRi4TicxMDAwMBy2ZcANTmO4Fgmw4ZNkxifJgE/yPz7JP7Z4JD/k4JF8JY5H8ocobhfSAQAAAcccEPv1uWYAAAAASUVORK5CYII=\" class=\"ndarray_image_preview\" /><pre class=\"ndarray_raw_data\">array([[  0,   0,   0,   0,   0,   0,   0,   0,   0,   0,   0,   0,   0,\n",
              "          0,   0,   0,   0,   0,   0,   0,   0,   0,   0,   0,   0,   0,\n",
              "          0,   0],\n",
              "       [  0,   0,   0,   0,   0,   0,   0,   0,   0,   0,   0,   0,   0,\n",
              "          0,   0,   0,   0,   0,   0,   0,   0,   0,   0,   0,   0,   0,\n",
              "          0,   0],\n",
              "       [  0,   0,   0,   0,   0,   0,   0,   0,   0,   0,   0,   0,   0,\n",
              "          0,   0,   0,   0,   0,   0,   0,   0,   0,   0,   0,   0,   0,\n",
              "          0,   0],\n",
              "       [  0,   0,   0,   0,   0,   0,   0,   0,   0,   0,   0,   0,   0,\n",
              "          0,   0,   0,   0,   0,   0,   0,   0,   0,   0,   0,   0,   0,\n",
              "          0,   0],\n",
              "       [  0,   0,   0,   0,   0,   0,   0,   0,   0,   0,   0,   0,   0,\n",
              "          0,   0,   0,   0,   0,   0,   0,   0,   0,   0,   0,   0,   0,\n",
              "          0,   0],\n",
              "       [  0,   0,   0,   0,   0,   0,   0,   0,   0,   0,   0,   0,   0,\n",
              "          0,   0,   0, 214,   0,   0,   0,   0,   0,   0,   0,   0,   0,\n",
              "          0,   0],\n",
              "       [  0,   0,   0,   0,   0,   0,   0,   0,   0,   0,   0,   0,   0,\n",
              "          0,   0,   0, 216,   0,   0,   0,   0,   0,   0,   0,   0,   0,\n",
              "          0,   0],\n",
              "       [  0,   0,   0,   0,   0,   0,   0, 122,   0,   0,   0,   0,   0,\n",
              "          0,   0,   0, 213,   0,   0,   0,   0,   0,   0,   0,   0,   0,\n",
              "          0,   0],\n",
              "       [  0,   0,   0,   0,   0,   0,   0, 178,   0,   0,   0,   0,   0,\n",
              "          0,   0,   0, 216,   0,   0,   0,   0,   0,   0,   0,   0,   0,\n",
              "          0,   0],\n",
              "       [  0,   0,   0,   0,   0,   0,  18, 160,   0,   0,   0,   0,   0,\n",
              "          0,   0,   0, 212, 112,   0,   0,   0,   0,   0,   0,   0,   0,\n",
              "          0,   0],\n",
              "       [  0,   0,   0,   0,   0,   0, 170, 146,   0,   0,   0,   0,   0,\n",
              "          0,   0,   0, 212, 149,   0,   0,   0,   0,   0,   0,   0,   0,\n",
              "          0,   0],\n",
              "       [  0,   0,   0,   0,   0,   0, 185, 132,   0,   0,   0,   0,   0,\n",
              "          0, 104, 147, 224, 208,   0,   0,   0,   0,   0,   0,   0,   0,\n",
              "          0,   0],\n",
              "       [  0,   0,   0,   0,   0,   0, 198, 127,   0,   0,   0,   0,  34,\n",
              "        205, 207, 177, 210, 161,   0,   0,   0,   0,   0,   0,   0,   0,\n",
              "          0,   0],\n",
              "       [  0,   0,   0,   0,   0,   0, 197, 126,   0,   0, 161, 205, 171,\n",
              "        120,   0,   0, 158, 178,   0,   0,   0,   0,   0,   0,   0,   0,\n",
              "          0,   0],\n",
              "       [  0,   0,   0,   0,   0,   0, 177, 201, 201, 211, 158,   0,   0,\n",
              "          0,   0,   0,   0, 195,   0,   0,   0,   0,   0,   0,   0,   0,\n",
              "          0,   0],\n",
              "       [  0,   0,   0,   0,   0,   0,   0,   0,   0,   0,   0,   0,   0,\n",
              "          0,   0,   0,   0, 203,   0,   0,   0,   0,   0,   0,   0,   0,\n",
              "          0,   0],\n",
              "       [  0,   0,   0,   0,   0,   0,   0,   0,   0,   0,   0,   0,   0,\n",
              "          0,   0,   0,   0, 209,   0,   0,   0,   0,   0,   0,   0,   0,\n",
              "          0,   0],\n",
              "       [  0,   0,   0,   0,   0,   0,   0,   0,   0,   0,   0,   0,   0,\n",
              "          0,   0,   0,   0, 212,   0,   0,   0,   0,   0,   0,   0,   0,\n",
              "          0,   0],\n",
              "       [  0,   0,   0,   0,   0,   0,   0,   0,   0,   0,   0,   0,   0,\n",
              "          0,   0,   0,   0, 212,   0,   0,   0,   0,   0,   0,   0,   0,\n",
              "          0,   0],\n",
              "       [  0,   0,   0,   0,   0,   0,   0,   0,   0,   0,   0,   0,   0,\n",
              "          0,   0,   0,   0, 211,   0,   0,   0,   0,   0,   0,   0,   0,\n",
              "          0,   0],\n",
              "       [  0,   0,   0,   0,   0,   0,   0,   0,   0,   0,   0,   0,   0,\n",
              "          0,   0,   0,   0, 207,  61,   0,   0,   0,   0,   0,   0,   0,\n",
              "          0,   0],\n",
              "       [  0,   0,   0,   0,   0,   0,   0,   0,   0,   0,   0,   0,   0,\n",
              "          0,   0,   0,   0, 191, 169,   0,   0,   0,   0,   0,   0,   0,\n",
              "          0,   0],\n",
              "       [  0,   0,   0,   0,   0,   0,   0,   0,   0,   0,   0,   0,   0,\n",
              "          0,   0,   0,   0, 169, 192,   0,   0,   0,   0,   0,   0,   0,\n",
              "          0,   0],\n",
              "       [  0,   0,   0,   0,   0,   0,   0,   0,   0,   0,   0,   0,   0,\n",
              "          0,   0,   0,   0, 161, 213,   0,   0,   0,   0,   0,   0,   0,\n",
              "          0,   0],\n",
              "       [  0,   0,   0,   0,   0,   0,   0,   0,   0,   0,   0,   0,   0,\n",
              "          0,   0,   0,   0,   0,   0,   0,   0,   0,   0,   0,   0,   0,\n",
              "          0,   0],\n",
              "       [  0,   0,   0,   0,   0,   0,   0,   0,   0,   0,   0,   0,   0,\n",
              "          0,   0,   0,   0,   0,   0,   0,   0,   0,   0,   0,   0,   0,\n",
              "          0,   0],\n",
              "       [  0,   0,   0,   0,   0,   0,   0,   0,   0,   0,   0,   0,   0,\n",
              "          0,   0,   0,   0,   0,   0,   0,   0,   0,   0,   0,   0,   0,\n",
              "          0,   0],\n",
              "       [  0,   0,   0,   0,   0,   0,   0,   0,   0,   0,   0,   0,   0,\n",
              "          0,   0,   0,   0,   0,   0,   0,   0,   0,   0,   0,   0,   0,\n",
              "          0,   0]], dtype=uint8)</pre></div><script>\n",
              "      (() => {\n",
              "      const titles = ['show data', 'hide data'];\n",
              "      let index = 0\n",
              "      document.querySelector('#id-cea5093d-8518-48c7-bd20-4b67c0e5b9d0 button').onclick = (e) => {\n",
              "        document.querySelector('#id-cea5093d-8518-48c7-bd20-4b67c0e5b9d0').classList.toggle('show_array');\n",
              "        index = (++index) % 2;\n",
              "        document.querySelector('#id-cea5093d-8518-48c7-bd20-4b67c0e5b9d0 button').textContent = titles[index];\n",
              "        e.preventDefault();\n",
              "        e.stopPropagation();\n",
              "      }\n",
              "      })();\n",
              "    </script>"
            ]
          },
          "metadata": {},
          "execution_count": 94
        }
      ],
      "source": [
        "img_resizedM = cv2.resize(img_resizedM, (28, 28), interpolation=cv2.INTER_LINEAR)\n",
        "img_resizedM"
      ]
    },
    {
      "cell_type": "code",
      "execution_count": 95,
      "metadata": {
        "colab": {
          "base_uri": "https://localhost:8080/"
        },
        "id": "djD08N_Ie8b1",
        "outputId": "8139e9d5-a5a0-4250-b93b-e1769bae10b9"
      },
      "outputs": [
        {
          "output_type": "execute_result",
          "data": {
            "text/plain": [
              "(28, 28)"
            ]
          },
          "metadata": {},
          "execution_count": 95
        }
      ],
      "source": [
        "img_resizedM.shape"
      ]
    },
    {
      "cell_type": "code",
      "execution_count": 96,
      "metadata": {
        "colab": {
          "base_uri": "https://localhost:8080/",
          "height": 447
        },
        "id": "FzWUG3Ime8b1",
        "outputId": "3ffc73e7-5632-4ffb-d217-2199fed82de6"
      },
      "outputs": [
        {
          "output_type": "execute_result",
          "data": {
            "text/plain": [
              "<matplotlib.image.AxesImage at 0x7a646deecb80>"
            ]
          },
          "metadata": {},
          "execution_count": 96
        },
        {
          "output_type": "display_data",
          "data": {
            "text/plain": [
              "<Figure size 640x480 with 1 Axes>"
            ],
            "image/png": "[encoded data removed]"
          },
          "metadata": {}
        }
      ],
      "source": [
        "plt.imshow(img_resizedM, cmap='gray')"
      ]
    },
    {
      "cell_type": "code",
      "execution_count": 109,
      "metadata": {
        "id": "mzU3tVeRe8b1"
      },
      "outputs": [],
      "source": [
        "img_resizedM=img_resizedM/255\n"
      ]
    },
    {
      "cell_type": "code",
      "execution_count": 110,
      "metadata": {
        "scrolled": false,
        "id": "CX3Gt3F4e8b1"
      },
      "outputs": [],
      "source": [
        "img_resizedM_Flat = img_resizedM.reshape(1, 28*28)\n"
      ]
    },
    {
      "cell_type": "code",
      "execution_count": 99,
      "metadata": {
        "colab": {
          "base_uri": "https://localhost:8080/",
          "height": 110
        },
        "id": "T0_rlmbYe8b1",
        "outputId": "8ffcec24-d7c7-4d3a-f167-d9cb53a8c1c1"
      },
      "outputs": [
        {
          "output_type": "execute_result",
          "data": {
            "text/plain": [
              "   0    1    2    3    4    5    6    7    8    9    ...  774  775  776  777  \\\n",
              "0  0.0  0.0  0.0  0.0  0.0  0.0  0.0  0.0  0.0  0.0  ...  0.0  0.0  0.0  0.0   \n",
              "\n",
              "   778  779  780  781  782  783  \n",
              "0  0.0  0.0  0.0  0.0  0.0  0.0  \n",
              "\n",
              "[1 rows x 784 columns]"
            ],
            "text/html": [
              "\n",
              "  <div id=\"df-f270a123-02cc-42bb-a06f-c21f110cb743\" class=\"colab-df-container\">\n",
              "    <div>\n",
              "<style scoped>\n",
              "    .dataframe tbody tr th:only-of-type {\n",
              "        vertical-align: middle;\n",
              "    }\n",
              "\n",
              "    .dataframe tbody tr th {\n",
              "        vertical-align: top;\n",
              "    }\n",
              "\n",
              "    .dataframe thead th {\n",
              "        text-align: right;\n",
              "    }\n",
              "</style>\n",
              "<table border=\"1\" class=\"dataframe\">\n",
              "  <thead>\n",
              "    <tr style=\"text-align: right;\">\n",
              "      <th></th>\n",
              "      <th>0</th>\n",
              "      <th>1</th>\n",
              "      <th>2</th>\n",
              "      <th>3</th>\n",
              "      <th>4</th>\n",
              "      <th>5</th>\n",
              "      <th>6</th>\n",
              "      <th>7</th>\n",
              "      <th>8</th>\n",
              "      <th>9</th>\n",
              "      <th>...</th>\n",
              "      <th>774</th>\n",
              "      <th>775</th>\n",
              "      <th>776</th>\n",
              "      <th>777</th>\n",
              "      <th>778</th>\n",
              "      <th>779</th>\n",
              "      <th>780</th>\n",
              "      <th>781</th>\n",
              "      <th>782</th>\n",
              "      <th>783</th>\n",
              "    </tr>\n",
              "  </thead>\n",
              "  <tbody>\n",
              "    <tr>\n",
              "      <th>0</th>\n",
              "      <td>0.0</td>\n",
              "      <td>0.0</td>\n",
              "      <td>0.0</td>\n",
              "      <td>0.0</td>\n",
              "      <td>0.0</td>\n",
              "      <td>0.0</td>\n",
              "      <td>0.0</td>\n",
              "      <td>0.0</td>\n",
              "      <td>0.0</td>\n",
              "      <td>0.0</td>\n",
              "      <td>...</td>\n",
              "      <td>0.0</td>\n",
              "      <td>0.0</td>\n",
              "      <td>0.0</td>\n",
              "      <td>0.0</td>\n",
              "      <td>0.0</td>\n",
              "      <td>0.0</td>\n",
              "      <td>0.0</td>\n",
              "      <td>0.0</td>\n",
              "      <td>0.0</td>\n",
              "      <td>0.0</td>\n",
              "    </tr>\n",
              "  </tbody>\n",
              "</table>\n",
              "<p>1 rows × 784 columns</p>\n",
              "</div>\n",
              "    <div class=\"colab-df-buttons\">\n",
              "\n",
              "  <div class=\"colab-df-container\">\n",
              "    <button class=\"colab-df-convert\" onclick=\"convertToInteractive('df-f270a123-02cc-42bb-a06f-c21f110cb743')\"\n",
              "            title=\"Convert this dataframe to an interactive table.\"\n",
              "            style=\"display:none;\">\n",
              "\n",
              "  <svg xmlns=\"http://www.w3.org/2000/svg\" height=\"24px\" viewBox=\"0 -960 960 960\">\n",
              "    <path d=\"M120-120v-720h720v720H120Zm60-500h600v-160H180v160Zm220 220h160v-160H400v160Zm0 220h160v-160H400v160ZM180-400h160v-160H180v160Zm440 0h160v-160H620v160ZM180-180h160v-160H180v160Zm440 0h160v-160H620v160Z\"/>\n",
              "  </svg>\n",
              "    </button>\n",
              "\n",
              "  <style>\n",
              "    .colab-df-container {\n",
              "      display:flex;\n",
              "      gap: 12px;\n",
              "    }\n",
              "\n",
              "    .colab-df-convert {\n",
              "      background-color: #E8F0FE;\n",
              "      border: none;\n",
              "      border-radius: 50%;\n",
              "      cursor: pointer;\n",
              "      display: none;\n",
              "      fill: #1967D2;\n",
              "      height: 32px;\n",
              "      padding: 0 0 0 0;\n",
              "      width: 32px;\n",
              "    }\n",
              "\n",
              "    .colab-df-convert:hover {\n",
              "      background-color: #E2EBFA;\n",
              "      box-shadow: 0px 1px 2px rgba(60, 64, 67, 0.3), 0px 1px 3px 1px rgba(60, 64, 67, 0.15);\n",
              "      fill: #174EA6;\n",
              "    }\n",
              "\n",
              "    .colab-df-buttons div {\n",
              "      margin-bottom: 4px;\n",
              "    }\n",
              "\n",
              "    [theme=dark] .colab-df-convert {\n",
              "      background-color: #3B4455;\n",
              "      fill: #D2E3FC;\n",
              "    }\n",
              "\n",
              "    [theme=dark] .colab-df-convert:hover {\n",
              "      background-color: #434B5C;\n",
              "      box-shadow: 0px 1px 3px 1px rgba(0, 0, 0, 0.15);\n",
              "      filter: drop-shadow(0px 1px 2px rgba(0, 0, 0, 0.3));\n",
              "      fill: #FFFFFF;\n",
              "    }\n",
              "  </style>\n",
              "\n",
              "    <script>\n",
              "      const buttonEl =\n",
              "        document.querySelector('#df-f270a123-02cc-42bb-a06f-c21f110cb743 button.colab-df-convert');\n",
              "      buttonEl.style.display =\n",
              "        google.colab.kernel.accessAllowed ? 'block' : 'none';\n",
              "\n",
              "      async function convertToInteractive(key) {\n",
              "        const element = document.querySelector('#df-f270a123-02cc-42bb-a06f-c21f110cb743');\n",
              "        const dataTable =\n",
              "          await google.colab.kernel.invokeFunction('convertToInteractive',\n",
              "                                                    [key], {});\n",
              "        if (!dataTable) return;\n",
              "\n",
              "        const docLinkHtml = 'Like what you see? Visit the ' +\n",
              "          '<a target=\"_blank\" href=https://colab.research.google.com/notebooks/data_table.ipynb>data table notebook</a>'\n",
              "          + ' to learn more about interactive tables.';\n",
              "        element.innerHTML = '';\n",
              "        dataTable['output_type'] = 'display_data';\n",
              "        await google.colab.output.renderOutput(dataTable, element);\n",
              "        const docLink = document.createElement('div');\n",
              "        docLink.innerHTML = docLinkHtml;\n",
              "        element.appendChild(docLink);\n",
              "      }\n",
              "    </script>\n",
              "  </div>\n",
              "\n",
              "\n",
              "  <div id=\"id_eb9bd315-b124-4829-9cf3-fb8e8d47e1fc\">\n",
              "    <style>\n",
              "      .colab-df-generate {\n",
              "        background-color: #E8F0FE;\n",
              "        border: none;\n",
              "        border-radius: 50%;\n",
              "        cursor: pointer;\n",
              "        display: none;\n",
              "        fill: #1967D2;\n",
              "        height: 32px;\n",
              "        padding: 0 0 0 0;\n",
              "        width: 32px;\n",
              "      }\n",
              "\n",
              "      .colab-df-generate:hover {\n",
              "        background-color: #E2EBFA;\n",
              "        box-shadow: 0px 1px 2px rgba(60, 64, 67, 0.3), 0px 1px 3px 1px rgba(60, 64, 67, 0.15);\n",
              "        fill: #174EA6;\n",
              "      }\n",
              "\n",
              "      [theme=dark] .colab-df-generate {\n",
              "        background-color: #3B4455;\n",
              "        fill: #D2E3FC;\n",
              "      }\n",
              "\n",
              "      [theme=dark] .colab-df-generate:hover {\n",
              "        background-color: #434B5C;\n",
              "        box-shadow: 0px 1px 3px 1px rgba(0, 0, 0, 0.15);\n",
              "        filter: drop-shadow(0px 1px 2px rgba(0, 0, 0, 0.3));\n",
              "        fill: #FFFFFF;\n",
              "      }\n",
              "    </style>\n",
              "    <button class=\"colab-df-generate\" onclick=\"generateWithVariable('df')\"\n",
              "            title=\"Generate code using this dataframe.\"\n",
              "            style=\"display:none;\">\n",
              "\n",
              "  <svg xmlns=\"http://www.w3.org/2000/svg\" height=\"24px\"viewBox=\"0 0 24 24\"\n",
              "       width=\"24px\">\n",
              "    <path d=\"M7,19H8.4L18.45,9,17,7.55,7,17.6ZM5,21V16.75L18.45,3.32a2,2,0,0,1,2.83,0l1.4,1.43a1.91,1.91,0,0,1,.58,1.4,1.91,1.91,0,0,1-.58,1.4L9.25,21ZM18.45,9,17,7.55Zm-12,3A5.31,5.31,0,0,0,4.9,8.1,5.31,5.31,0,0,0,1,6.5,5.31,5.31,0,0,0,4.9,4.9,5.31,5.31,0,0,0,6.5,1,5.31,5.31,0,0,0,8.1,4.9,5.31,5.31,0,0,0,12,6.5,5.46,5.46,0,0,0,6.5,12Z\"/>\n",
              "  </svg>\n",
              "    </button>\n",
              "    <script>\n",
              "      (() => {\n",
              "      const buttonEl =\n",
              "        document.querySelector('#id_eb9bd315-b124-4829-9cf3-fb8e8d47e1fc button.colab-df-generate');\n",
              "      buttonEl.style.display =\n",
              "        google.colab.kernel.accessAllowed ? 'block' : 'none';\n",
              "\n",
              "      buttonEl.onclick = () => {\n",
              "        google.colab.notebook.generateWithVariable('df');\n",
              "      }\n",
              "      })();\n",
              "    </script>\n",
              "  </div>\n",
              "\n",
              "    </div>\n",
              "  </div>\n"
            ],
            "application/vnd.google.colaboratory.intrinsic+json": {
              "type": "dataframe",
              "variable_name": "df"
            }
          },
          "metadata": {},
          "execution_count": 99
        }
      ],
      "source": [
        "df = pd.DataFrame(img_resizedM_Flat)\n",
        "df = df\n",
        "df"
      ]
    },
    {
      "cell_type": "code",
      "execution_count": 100,
      "metadata": {
        "colab": {
          "base_uri": "https://localhost:8080/"
        },
        "id": "F33xC4XTe8b1",
        "outputId": "0e3c3791-7256-4704-97f2-5afb1e71f47f"
      },
      "outputs": [
        {
          "output_type": "execute_result",
          "data": {
            "text/plain": [
              "array([4], dtype=uint8)"
            ]
          },
          "metadata": {},
          "execution_count": 100
        }
      ],
      "source": [
        "knn.predict(df)"
      ]
    },
    {
      "cell_type": "code",
      "execution_count": 101,
      "metadata": {
        "colab": {
          "base_uri": "https://localhost:8080/"
        },
        "id": "0HXmxkm9e8b1",
        "outputId": "5ca66dfb-589b-402a-e4e7-acc5905c856f"
      },
      "outputs": [
        {
          "output_type": "execute_result",
          "data": {
            "text/plain": [
              "['KNNModel_Job']"
            ]
          },
          "metadata": {},
          "execution_count": 101
        }
      ],
      "source": [
        "import joblib as jbl\n",
        "\n",
        "jbl.dump(knn,'KNNModel_Job')"
      ]
    },
    {
      "cell_type": "code",
      "execution_count": 101,
      "metadata": {
        "id": "FYUhGpyRe8b1"
      },
      "outputs": [],
      "source": []
    }
  ],
  "metadata": {
    "kernelspec": {
      "display_name": "Python 3 (ipykernel)",
      "language": "python",
      "name": "python3"
    },
    "language_info": {
      "codemirror_mode": {
        "name": "ipython",
        "version": 3
      },
      "file_extension": ".py",
      "mimetype": "text/x-python",
      "name": "python",
      "nbconvert_exporter": "python",
      "pygments_lexer": "ipython3",
      "version": "3.11.5"
    },
    "colab": {
      "provenance": [],
      "include_colab_link": true
    }
  },
  "nbformat": 4,
  "nbformat_minor": 0
}