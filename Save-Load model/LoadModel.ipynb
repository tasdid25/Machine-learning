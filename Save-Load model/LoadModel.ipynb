{
 "cells": [
  {
   "cell_type": "markdown",
   "id": "6a6531e1",
   "metadata": {},
   "source": [
    "### Load Pickle saving Model "
   ]
  },
  {
   "cell_type": "code",
   "execution_count": 1,
   "id": "2701ec31",
   "metadata": {},
   "outputs": [],
   "source": [
    "import pandas as pd\n",
    "import pickle"
   ]
  },
  {
   "cell_type": "code",
   "execution_count": 2,
   "id": "941fb419",
   "metadata": {},
   "outputs": [],
   "source": [
    "with open('model_pickle','rb') as file:\n",
    "    mod = pickle.load(file)"
   ]
  },
  {
   "cell_type": "code",
   "execution_count": 3,
   "id": "1d09b860",
   "metadata": {},
   "outputs": [
    {
     "data": {
      "text/plain": [
       "array([[135.78767123]])"
      ]
     },
     "execution_count": 3,
     "metadata": {},
     "output_type": "execute_result"
    }
   ],
   "source": [
    "mod.coef_"
   ]
  },
  {
   "cell_type": "code",
   "execution_count": 4,
   "id": "5c39ea4a",
   "metadata": {},
   "outputs": [
    {
     "data": {
      "text/plain": [
       "array([180616.43835616])"
      ]
     },
     "execution_count": 4,
     "metadata": {},
     "output_type": "execute_result"
    }
   ],
   "source": [
    "mod.intercept_"
   ]
  },
  {
   "cell_type": "code",
   "execution_count": 6,
   "id": "27c6521d",
   "metadata": {},
   "outputs": [
    {
     "name": "stderr",
     "output_type": "stream",
     "text": [
      "C:\\Users\\Hp\\anaconda3\\Lib\\site-packages\\sklearn\\base.py:464: UserWarning: X does not have valid feature names, but LinearRegression was fitted with feature names\n",
      "  warnings.warn(\n"
     ]
    },
    {
     "data": {
      "text/plain": [
       "array([[995342.46575342]])"
      ]
     },
     "execution_count": 6,
     "metadata": {},
     "output_type": "execute_result"
    }
   ],
   "source": [
    "mod.predict([[6000]])"
   ]
  },
  {
   "cell_type": "markdown",
   "id": "e73e09a2",
   "metadata": {},
   "source": [
    "### Code for pycharm"
   ]
  },
  {
   "cell_type": "code",
   "execution_count": null,
   "id": "2c0c40f0",
   "metadata": {},
   "outputs": [],
   "source": [
    "#pip install pickle-mixin\n",
    "#pip install scikit-learn\n",
    "\n",
    "import pickle\n",
    "\n",
    "with open('model_pickle','rb') as file:\n",
    "    md = pickle.load(file)\n",
    "\n",
    "#print(md.coef_)\n",
    "#print(md.intercept_)\n",
    "print(md.predict([[5000]]))"
   ]
  },
  {
   "cell_type": "markdown",
   "id": "c18abeac",
   "metadata": {},
   "source": [
    "### Load Joblib saving Model "
   ]
  },
  {
   "cell_type": "code",
   "execution_count": 7,
   "id": "83833f1d",
   "metadata": {},
   "outputs": [],
   "source": [
    "import joblib as jbl\n",
    "mymodel = jbl.load('My_JobModel')"
   ]
  },
  {
   "cell_type": "code",
   "execution_count": 8,
   "id": "654e2987",
   "metadata": {},
   "outputs": [
    {
     "data": {
      "text/plain": [
       "array([[135.78767123]])"
      ]
     },
     "execution_count": 8,
     "metadata": {},
     "output_type": "execute_result"
    }
   ],
   "source": [
    "mymodel.coef_"
   ]
  },
  {
   "cell_type": "code",
   "execution_count": 9,
   "id": "256d8810",
   "metadata": {},
   "outputs": [
    {
     "data": {
      "text/plain": [
       "array([180616.43835616])"
      ]
     },
     "execution_count": 9,
     "metadata": {},
     "output_type": "execute_result"
    }
   ],
   "source": [
    "mymodel.intercept_"
   ]
  },
  {
   "cell_type": "code",
   "execution_count": 10,
   "id": "dd93da65",
   "metadata": {},
   "outputs": [
    {
     "name": "stderr",
     "output_type": "stream",
     "text": [
      "C:\\Users\\Hp\\anaconda3\\Lib\\site-packages\\sklearn\\base.py:464: UserWarning: X does not have valid feature names, but LinearRegression was fitted with feature names\n",
      "  warnings.warn(\n"
     ]
    },
    {
     "data": {
      "text/plain": [
       "array([[859554.79452055]])"
      ]
     },
     "execution_count": 10,
     "metadata": {},
     "output_type": "execute_result"
    }
   ],
   "source": [
    "mymodel.predict([[5000]])"
   ]
  },
  {
   "cell_type": "markdown",
   "id": "75957a82",
   "metadata": {},
   "source": [
    "### for pycharm"
   ]
  },
  {
   "cell_type": "code",
   "execution_count": null,
   "id": "fdb37e0f",
   "metadata": {},
   "outputs": [],
   "source": [
    "# pip install joblib\n",
    "\n",
    "# import joblib as jbl\n",
    "# mymodel = jbl.load('My_JobModel')\n",
    "\n",
    "# print(mymodel.coef_)\n",
    "# print(mymodel.intercept_)\n",
    "# print(mymodel.predict([[5000]]))"
   ]
  },
  {
   "cell_type": "code",
   "execution_count": null,
   "id": "3a57f27d",
   "metadata": {},
   "outputs": [],
   "source": []
  }
 ],
 "metadata": {
  "kernelspec": {
   "display_name": "Python 3 (ipykernel)",
   "language": "python",
   "name": "python3"
  },
  "language_info": {
   "codemirror_mode": {
    "name": "ipython",
    "version": 3
   },
   "file_extension": ".py",
   "mimetype": "text/x-python",
   "name": "python",
   "nbconvert_exporter": "python",
   "pygments_lexer": "ipython3",
   "version": "3.11.5"
  }
 },
 "nbformat": 4,
 "nbformat_minor": 5
}
